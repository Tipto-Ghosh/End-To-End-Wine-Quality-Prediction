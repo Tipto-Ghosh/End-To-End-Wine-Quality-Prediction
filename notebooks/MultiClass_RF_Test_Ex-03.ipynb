{
 "cells": [
  {
   "cell_type": "markdown",
   "id": "18bd280a-f529-4f52-96b6-dd07fdf7572e",
   "metadata": {},
   "source": [
    "## Here we will test for multi-class but just with random forest.(Extend of EX-01)"
   ]
  },
  {
   "cell_type": "code",
   "execution_count": 1,
   "id": "27c2d738-9767-4571-bf83-4f9f432c7490",
   "metadata": {},
   "outputs": [],
   "source": [
    "import numpy as np \n",
    "import pandas as pd \n",
    "import seaborn as sns\n",
    "from matplotlib import pyplot "
   ]
  },
  {
   "cell_type": "code",
   "execution_count": 2,
   "id": "00800d03-344d-4c40-a995-292aee641edd",
   "metadata": {},
   "outputs": [],
   "source": [
    "# load the data\n",
    "df = pd.read_csv(\"wine.csv\")"
   ]
  },
  {
   "cell_type": "code",
   "execution_count": 3,
   "id": "7175b5fd-3321-4185-aea1-33b04f8840cb",
   "metadata": {},
   "outputs": [
    {
     "data": {
      "text/html": [
       "<div>\n",
       "<style scoped>\n",
       "    .dataframe tbody tr th:only-of-type {\n",
       "        vertical-align: middle;\n",
       "    }\n",
       "\n",
       "    .dataframe tbody tr th {\n",
       "        vertical-align: top;\n",
       "    }\n",
       "\n",
       "    .dataframe thead th {\n",
       "        text-align: right;\n",
       "    }\n",
       "</style>\n",
       "<table border=\"1\" class=\"dataframe\">\n",
       "  <thead>\n",
       "    <tr style=\"text-align: right;\">\n",
       "      <th></th>\n",
       "      <th>wine type</th>\n",
       "      <th>fixed acidity</th>\n",
       "      <th>volatile acidity</th>\n",
       "      <th>citric acid</th>\n",
       "      <th>residual sugar</th>\n",
       "      <th>chlorides</th>\n",
       "      <th>free sulfur dioxide</th>\n",
       "      <th>total sulfur dioxide</th>\n",
       "      <th>density</th>\n",
       "      <th>pH</th>\n",
       "      <th>sulphates</th>\n",
       "      <th>alcohol</th>\n",
       "      <th>quality</th>\n",
       "    </tr>\n",
       "  </thead>\n",
       "  <tbody>\n",
       "    <tr>\n",
       "      <th>0</th>\n",
       "      <td>white</td>\n",
       "      <td>6.0</td>\n",
       "      <td>0.180</td>\n",
       "      <td>0.31</td>\n",
       "      <td>1.4</td>\n",
       "      <td>0.036</td>\n",
       "      <td>14.0</td>\n",
       "      <td>75.0</td>\n",
       "      <td>0.99085</td>\n",
       "      <td>3.34</td>\n",
       "      <td>0.58</td>\n",
       "      <td>11.1</td>\n",
       "      <td>8</td>\n",
       "    </tr>\n",
       "    <tr>\n",
       "      <th>1</th>\n",
       "      <td>white</td>\n",
       "      <td>5.3</td>\n",
       "      <td>0.395</td>\n",
       "      <td>0.07</td>\n",
       "      <td>1.3</td>\n",
       "      <td>0.035</td>\n",
       "      <td>26.0</td>\n",
       "      <td>102.0</td>\n",
       "      <td>0.99200</td>\n",
       "      <td>3.50</td>\n",
       "      <td>0.35</td>\n",
       "      <td>10.6</td>\n",
       "      <td>6</td>\n",
       "    </tr>\n",
       "    <tr>\n",
       "      <th>2</th>\n",
       "      <td>red</td>\n",
       "      <td>8.1</td>\n",
       "      <td>0.560</td>\n",
       "      <td>0.28</td>\n",
       "      <td>1.7</td>\n",
       "      <td>0.368</td>\n",
       "      <td>16.0</td>\n",
       "      <td>56.0</td>\n",
       "      <td>0.99680</td>\n",
       "      <td>3.11</td>\n",
       "      <td>1.28</td>\n",
       "      <td>9.3</td>\n",
       "      <td>5</td>\n",
       "    </tr>\n",
       "    <tr>\n",
       "      <th>3</th>\n",
       "      <td>white</td>\n",
       "      <td>6.4</td>\n",
       "      <td>0.220</td>\n",
       "      <td>0.34</td>\n",
       "      <td>1.4</td>\n",
       "      <td>0.023</td>\n",
       "      <td>56.0</td>\n",
       "      <td>115.0</td>\n",
       "      <td>0.98958</td>\n",
       "      <td>3.18</td>\n",
       "      <td>0.70</td>\n",
       "      <td>11.7</td>\n",
       "      <td>6</td>\n",
       "    </tr>\n",
       "    <tr>\n",
       "      <th>4</th>\n",
       "      <td>red</td>\n",
       "      <td>9.4</td>\n",
       "      <td>0.270</td>\n",
       "      <td>0.53</td>\n",
       "      <td>2.4</td>\n",
       "      <td>0.074</td>\n",
       "      <td>6.0</td>\n",
       "      <td>18.0</td>\n",
       "      <td>0.99620</td>\n",
       "      <td>3.20</td>\n",
       "      <td>1.13</td>\n",
       "      <td>12.0</td>\n",
       "      <td>7</td>\n",
       "    </tr>\n",
       "  </tbody>\n",
       "</table>\n",
       "</div>"
      ],
      "text/plain": [
       "  wine type  fixed acidity  volatile acidity  citric acid  residual sugar  \\\n",
       "0     white            6.0             0.180         0.31             1.4   \n",
       "1     white            5.3             0.395         0.07             1.3   \n",
       "2       red            8.1             0.560         0.28             1.7   \n",
       "3     white            6.4             0.220         0.34             1.4   \n",
       "4       red            9.4             0.270         0.53             2.4   \n",
       "\n",
       "   chlorides  free sulfur dioxide  total sulfur dioxide  density    pH  \\\n",
       "0      0.036                 14.0                  75.0  0.99085  3.34   \n",
       "1      0.035                 26.0                 102.0  0.99200  3.50   \n",
       "2      0.368                 16.0                  56.0  0.99680  3.11   \n",
       "3      0.023                 56.0                 115.0  0.98958  3.18   \n",
       "4      0.074                  6.0                  18.0  0.99620  3.20   \n",
       "\n",
       "   sulphates  alcohol  quality  \n",
       "0       0.58     11.1        8  \n",
       "1       0.35     10.6        6  \n",
       "2       1.28      9.3        5  \n",
       "3       0.70     11.7        6  \n",
       "4       1.13     12.0        7  "
      ]
     },
     "execution_count": 3,
     "metadata": {},
     "output_type": "execute_result"
    }
   ],
   "source": [
    "df.head()"
   ]
  },
  {
   "cell_type": "code",
   "execution_count": 4,
   "id": "44eac561-5fad-4ca2-8592-a21f134ac72d",
   "metadata": {},
   "outputs": [],
   "source": [
    "def wine_label(q):\n",
    "    if q > 7:\n",
    "        return \"premium\" # label encode => 2 \n",
    "    elif 5 <= q <= 6:\n",
    "        return \"standard\" # label encode => 1 \n",
    "    else:\n",
    "        return \"basic\" # label encode => 0 \n",
    "\n",
    "df[\"quality\"] = df[\"quality\"].apply(wine_label)"
   ]
  },
  {
   "cell_type": "code",
   "execution_count": 5,
   "id": "f5170798-f6cb-4fdd-9436-96c161c9cfca",
   "metadata": {},
   "outputs": [],
   "source": [
    "#  wine type is not related to quality. Drop this column\n",
    "df.drop(columns = ['wine type'] , axis = 1 , inplace = True)"
   ]
  },
  {
   "cell_type": "code",
   "execution_count": 6,
   "id": "3cdaebc4-572a-4753-b756-4bc51f6c9f44",
   "metadata": {},
   "outputs": [
    {
     "data": {
      "text/plain": [
       "(9, 12)"
      ]
     },
     "execution_count": 6,
     "metadata": {},
     "output_type": "execute_result"
    }
   ],
   "source": [
    "# column citric acid values with greater than 0.95 is outlier remove all where value crosses the thresold \n",
    "df[df['citric acid'] > 0.95].shape"
   ]
  },
  {
   "cell_type": "code",
   "execution_count": 7,
   "id": "de5c332a-b18c-44c7-bdd8-510e600ec03e",
   "metadata": {},
   "outputs": [],
   "source": [
    "# column citric acid values with greater than 0.95 is outlier remove all where value crosses the thresold \n",
    "df = df[df['citric acid'] <= 0.95]"
   ]
  },
  {
   "cell_type": "code",
   "execution_count": 8,
   "id": "0626133b-6255-4df5-9f0c-732617714529",
   "metadata": {},
   "outputs": [
    {
     "data": {
      "text/html": [
       "<div>\n",
       "<style scoped>\n",
       "    .dataframe tbody tr th:only-of-type {\n",
       "        vertical-align: middle;\n",
       "    }\n",
       "\n",
       "    .dataframe tbody tr th {\n",
       "        vertical-align: top;\n",
       "    }\n",
       "\n",
       "    .dataframe thead th {\n",
       "        text-align: right;\n",
       "    }\n",
       "</style>\n",
       "<table border=\"1\" class=\"dataframe\">\n",
       "  <thead>\n",
       "    <tr style=\"text-align: right;\">\n",
       "      <th></th>\n",
       "      <th>fixed acidity</th>\n",
       "      <th>volatile acidity</th>\n",
       "      <th>citric acid</th>\n",
       "      <th>residual sugar</th>\n",
       "      <th>chlorides</th>\n",
       "      <th>free sulfur dioxide</th>\n",
       "      <th>total sulfur dioxide</th>\n",
       "      <th>density</th>\n",
       "      <th>pH</th>\n",
       "      <th>sulphates</th>\n",
       "      <th>alcohol</th>\n",
       "      <th>quality</th>\n",
       "    </tr>\n",
       "  </thead>\n",
       "  <tbody>\n",
       "    <tr>\n",
       "      <th>3671</th>\n",
       "      <td>7.8</td>\n",
       "      <td>0.965</td>\n",
       "      <td>0.60</td>\n",
       "      <td>65.80</td>\n",
       "      <td>0.074</td>\n",
       "      <td>8.0</td>\n",
       "      <td>160.0</td>\n",
       "      <td>1.03898</td>\n",
       "      <td>3.39</td>\n",
       "      <td>0.69</td>\n",
       "      <td>11.7</td>\n",
       "      <td>standard</td>\n",
       "    </tr>\n",
       "    <tr>\n",
       "      <th>4701</th>\n",
       "      <td>7.9</td>\n",
       "      <td>0.330</td>\n",
       "      <td>0.28</td>\n",
       "      <td>31.60</td>\n",
       "      <td>0.053</td>\n",
       "      <td>35.0</td>\n",
       "      <td>176.0</td>\n",
       "      <td>1.01030</td>\n",
       "      <td>3.15</td>\n",
       "      <td>0.38</td>\n",
       "      <td>8.8</td>\n",
       "      <td>standard</td>\n",
       "    </tr>\n",
       "    <tr>\n",
       "      <th>5479</th>\n",
       "      <td>6.8</td>\n",
       "      <td>0.450</td>\n",
       "      <td>0.28</td>\n",
       "      <td>26.05</td>\n",
       "      <td>0.031</td>\n",
       "      <td>27.0</td>\n",
       "      <td>122.0</td>\n",
       "      <td>1.00295</td>\n",
       "      <td>3.06</td>\n",
       "      <td>0.42</td>\n",
       "      <td>10.6</td>\n",
       "      <td>standard</td>\n",
       "    </tr>\n",
       "    <tr>\n",
       "      <th>5857</th>\n",
       "      <td>7.9</td>\n",
       "      <td>0.330</td>\n",
       "      <td>0.28</td>\n",
       "      <td>31.60</td>\n",
       "      <td>0.053</td>\n",
       "      <td>35.0</td>\n",
       "      <td>176.0</td>\n",
       "      <td>1.01030</td>\n",
       "      <td>3.15</td>\n",
       "      <td>0.38</td>\n",
       "      <td>8.8</td>\n",
       "      <td>standard</td>\n",
       "    </tr>\n",
       "    <tr>\n",
       "      <th>6180</th>\n",
       "      <td>6.8</td>\n",
       "      <td>0.450</td>\n",
       "      <td>0.28</td>\n",
       "      <td>26.05</td>\n",
       "      <td>0.031</td>\n",
       "      <td>27.0</td>\n",
       "      <td>122.0</td>\n",
       "      <td>1.00295</td>\n",
       "      <td>3.06</td>\n",
       "      <td>0.42</td>\n",
       "      <td>10.6</td>\n",
       "      <td>standard</td>\n",
       "    </tr>\n",
       "  </tbody>\n",
       "</table>\n",
       "</div>"
      ],
      "text/plain": [
       "      fixed acidity  volatile acidity  citric acid  residual sugar  chlorides  \\\n",
       "3671            7.8             0.965         0.60           65.80      0.074   \n",
       "4701            7.9             0.330         0.28           31.60      0.053   \n",
       "5479            6.8             0.450         0.28           26.05      0.031   \n",
       "5857            7.9             0.330         0.28           31.60      0.053   \n",
       "6180            6.8             0.450         0.28           26.05      0.031   \n",
       "\n",
       "      free sulfur dioxide  total sulfur dioxide  density    pH  sulphates  \\\n",
       "3671                  8.0                 160.0  1.03898  3.39       0.69   \n",
       "4701                 35.0                 176.0  1.01030  3.15       0.38   \n",
       "5479                 27.0                 122.0  1.00295  3.06       0.42   \n",
       "5857                 35.0                 176.0  1.01030  3.15       0.38   \n",
       "6180                 27.0                 122.0  1.00295  3.06       0.42   \n",
       "\n",
       "      alcohol   quality  \n",
       "3671     11.7  standard  \n",
       "4701      8.8  standard  \n",
       "5479     10.6  standard  \n",
       "5857      8.8  standard  \n",
       "6180     10.6  standard  "
      ]
     },
     "execution_count": 8,
     "metadata": {},
     "output_type": "execute_result"
    }
   ],
   "source": [
    "# residual sugar column has outlier, remove all rows where values are greater than 25\n",
    "df[df['residual sugar'] > 25]"
   ]
  },
  {
   "cell_type": "code",
   "execution_count": 9,
   "id": "c6a15bba-f0d8-46bc-b34c-cc040cb46a44",
   "metadata": {},
   "outputs": [],
   "source": [
    "# residual sugar column has outlier, remove all rows where values are greater than 25\n",
    "df = df[df['residual sugar'] <= 25]"
   ]
  },
  {
   "cell_type": "code",
   "execution_count": 10,
   "id": "3a870c6b-22fb-4ccc-9bdd-2243cf3d4054",
   "metadata": {},
   "outputs": [],
   "source": [
    "# total sulfur dioxide has outlier \n",
    "df = df[df['total sulfur dioxide'] <= 280]"
   ]
  },
  {
   "cell_type": "code",
   "execution_count": 11,
   "id": "99b97e18-7e0d-4010-b9b8-7c89488296fd",
   "metadata": {},
   "outputs": [],
   "source": [
    "# fixed acidity is almost same for all quality , also correlation is -0.08 not really correlated \n",
    "df = df.drop(columns=[\"fixed acidity\"])"
   ]
  },
  {
   "cell_type": "code",
   "execution_count": 12,
   "id": "71889d91-a655-435b-a80d-8e6a695fee2b",
   "metadata": {},
   "outputs": [],
   "source": [
    "# `density` is not changing for `quality` not an usefull column , drop this column\n",
    "df = df.drop(columns = ['density'])"
   ]
  },
  {
   "cell_type": "code",
   "execution_count": 13,
   "id": "d7fb2ccc-c34e-4633-a788-299be7ea5d64",
   "metadata": {},
   "outputs": [],
   "source": [
    "# pH is not changing for quality not an usefull column drop this column \n",
    "df = df.drop(columns = ['pH'])"
   ]
  },
  {
   "cell_type": "code",
   "execution_count": 14,
   "id": "dce9133f-dd64-4171-a0c4-788ae83ab836",
   "metadata": {},
   "outputs": [],
   "source": [
    "# quality is not really depending on sulphates, drop this column \n",
    "df = df.drop(columns = ['sulphates'])"
   ]
  },
  {
   "cell_type": "code",
   "execution_count": 15,
   "id": "372ca875-7bb1-4177-8405-fc6cb2498a35",
   "metadata": {},
   "outputs": [],
   "source": [
    "# seprate X and y \n",
    "X = df.drop(\"quality\" , axis = 1)\n",
    "y = df['quality']"
   ]
  },
  {
   "cell_type": "markdown",
   "id": "e62cd944-66ec-4bc4-a64f-1b5636e2ee54",
   "metadata": {},
   "source": [
    "## Now we have to do the transformation"
   ]
  },
  {
   "cell_type": "code",
   "execution_count": 16,
   "id": "f034abc2-8a77-4d24-8c94-2b1f327ab4d3",
   "metadata": {},
   "outputs": [],
   "source": [
    "log_cols = ['volatile acidity' , 'residual sugar', 'chlorides']\n",
    "sqrt_cols = ['free sulfur dioxide']\n",
    "other_cols = [col for col in X.columns if col not in log_cols + sqrt_cols] "
   ]
  },
  {
   "cell_type": "code",
   "execution_count": 17,
   "id": "5e5ad521-4289-47c7-84b1-a1d34ba16371",
   "metadata": {},
   "outputs": [],
   "source": [
    "from sklearn.preprocessing import FunctionTransformer , StandardScaler\n",
    "from sklearn.compose import ColumnTransformer\n",
    "from sklearn.pipeline import Pipeline"
   ]
  },
  {
   "cell_type": "code",
   "execution_count": 18,
   "id": "83e72ee1-a3c5-490f-9df1-36f000344a8e",
   "metadata": {},
   "outputs": [],
   "source": [
    "# define log transformers  \n",
    "log_pipeline = Pipeline(steps = [\n",
    "    (\"log\" , FunctionTransformer(np.log1p , validate = False)) , \n",
    "    (\"scaler\" , StandardScaler())\n",
    "])"
   ]
  },
  {
   "cell_type": "code",
   "execution_count": 19,
   "id": "2a660664-32c6-4fbb-b8bd-69577a0f66d5",
   "metadata": {},
   "outputs": [],
   "source": [
    "# define sqrt transformer with scaling \n",
    "sqrt_pipeline = Pipeline(steps = [\n",
    "    (\"sqrt\" , FunctionTransformer(np.sqrt , validate = False)), \n",
    "    (\"scaler\" , StandardScaler())\n",
    "])"
   ]
  },
  {
   "cell_type": "code",
   "execution_count": 20,
   "id": "c6ac4499-01f9-479d-ac66-ba9779b9940e",
   "metadata": {},
   "outputs": [],
   "source": [
    "# define a scaler for others column\n",
    "scaler_pipeline = Pipeline(steps = [\n",
    "    (\"scaler\" , StandardScaler())\n",
    "])"
   ]
  },
  {
   "cell_type": "code",
   "execution_count": 21,
   "id": "e013e95e-ee33-462c-8be8-e8d0ecce5f1d",
   "metadata": {},
   "outputs": [],
   "source": [
    "# define the column transformer \n",
    "preprocessor = ColumnTransformer(\n",
    "    transformers = [\n",
    "        (\"log\" , log_pipeline , log_cols),\n",
    "        (\"sqrt\" , sqrt_pipeline , sqrt_cols),\n",
    "        (\"others\" , scaler_pipeline , other_cols)\n",
    "    ]\n",
    ")"
   ]
  },
  {
   "cell_type": "code",
   "execution_count": 22,
   "id": "23267de8-a015-4760-a68b-86a48f92f553",
   "metadata": {},
   "outputs": [],
   "source": [
    "# transformed X \n",
    "X_transformed = preprocessor.fit_transform(X)"
   ]
  },
  {
   "cell_type": "code",
   "execution_count": 23,
   "id": "cc509bc2-ab00-4830-a11d-3b85db7469c4",
   "metadata": {},
   "outputs": [],
   "source": [
    "# now encode the target y \n",
    "mapping = {\"basic\": 0, \"standard\": 1, \"premium\": 2}\n",
    "y_encoded = y.map(mapping)"
   ]
  },
  {
   "cell_type": "code",
   "execution_count": 24,
   "id": "ffd01822-b2d7-46ad-933e-7c2327c7043f",
   "metadata": {},
   "outputs": [
    {
     "data": {
      "text/plain": [
       "((5180, 7), (1295, 7))"
      ]
     },
     "execution_count": 24,
     "metadata": {},
     "output_type": "execute_result"
    }
   ],
   "source": [
    "# Train Test Split\n",
    "from sklearn.model_selection import train_test_split\n",
    "X_train , X_test , y_train , y_test = train_test_split(X_transformed , y_encoded , test_size = 0.2 , random_state = 42)\n",
    "X_train.shape , X_test.shape"
   ]
  },
  {
   "cell_type": "markdown",
   "id": "0c968aee-a0b8-4757-9664-d1fb0fb170b6",
   "metadata": {},
   "source": [
    "### Handle Imbalance Issue"
   ]
  },
  {
   "cell_type": "code",
   "execution_count": 28,
   "id": "e58e3487-4394-498a-902a-897f1922932c",
   "metadata": {},
   "outputs": [],
   "source": [
    "from imblearn.over_sampling import SMOTE\n",
    "from imblearn.combine import SMOTEENN\n",
    "from collections import Counter"
   ]
  },
  {
   "cell_type": "code",
   "execution_count": 29,
   "id": "20f53e73-7e83-4301-ad4e-707a631379f0",
   "metadata": {},
   "outputs": [],
   "source": [
    "smote = SMOTE(random_state = 42)\n",
    "X_train_res , y_train_res = smote.fit_resample(X_train , y_train)"
   ]
  },
  {
   "cell_type": "code",
   "execution_count": 30,
   "id": "3141933f-68d9-40ee-b5f1-76b6ea026653",
   "metadata": {},
   "outputs": [
    {
     "name": "stdout",
     "output_type": "stream",
     "text": [
      "Before: Counter({1: 3954, 0: 1073, 2: 153})\n",
      "After : Counter({1: 3954, 0: 3954, 2: 3954})\n"
     ]
    }
   ],
   "source": [
    "print(\"Before:\", Counter(y_train))\n",
    "print(\"After :\", Counter(y_train_res))"
   ]
  },
  {
   "cell_type": "code",
   "execution_count": 31,
   "id": "90daed4a-9b13-4008-9e7a-d39bdc38733c",
   "metadata": {},
   "outputs": [],
   "source": [
    "from sklearn.metrics import accuracy_score, f1_score, precision_score, recall_score, roc_auc_score\n",
    "\n",
    "def evaluate_clf(true, predicted, probs = None, n_classes = 3): # n_classes = 3 cause we have 3 classes\n",
    "    \"\"\"\n",
    "    Evaluate multi-class classification metrics.\n",
    "    \n",
    "    Parameters:\n",
    "    - true: true labels\n",
    "    - predicted: predicted labels\n",
    "    - probs: predicted probabilities for roc_auc (optional)\n",
    "    - n_classes: number of classes\n",
    "    \"\"\"\n",
    "    \n",
    "    acc = accuracy_score(true , predicted)\n",
    "    f1 = f1_score(true , predicted , average = \"macro\")\n",
    "    precision = precision_score(true , predicted , average = \"macro\")\n",
    "    recall = recall_score(true , predicted , average = \"macro\")\n",
    "    \n",
    "    # ROC-AUC for multi-class requires probability estimates\n",
    "    if probs is not None:\n",
    "        roc_auc = roc_auc_score(true , probs , multi_class = \"ovr\", average = \"macro\")\n",
    "    else:\n",
    "        roc_auc = None\n",
    "    \n",
    "    return acc, f1, precision, recall, roc_auc"
   ]
  },
  {
   "cell_type": "code",
   "execution_count": 33,
   "id": "96b59cef-fec6-450a-b33e-b965763084d9",
   "metadata": {},
   "outputs": [],
   "source": [
    "from sklearn.ensemble import RandomForestClassifier , AdaBoostClassifier , GradientBoostingClassifier\n",
    "from xgboost import XGBClassifier\n",
    "from catboost import CatBoostClassifier"
   ]
  },
  {
   "cell_type": "code",
   "execution_count": 34,
   "id": "e9487cd8-637e-47b6-9037-9b3d0d0e3ff4",
   "metadata": {},
   "outputs": [],
   "source": [
    "models = {\n",
    "    \"Random Forest\": RandomForestClassifier(),\n",
    "    \"Gradient Boosting\": GradientBoostingClassifier(),\n",
    "    \"XGBClassifier\": XGBClassifier(), \n",
    "     \"CatBoosting Classifier\": CatBoostClassifier(verbose = False),\n",
    "    \"AdaBoost Classifier\": AdaBoostClassifier()\n",
    "}"
   ]
  },
  {
   "cell_type": "code",
   "execution_count": 39,
   "id": "d31c7ab6-dc08-4554-9c85-9c6ebbb492c6",
   "metadata": {},
   "outputs": [],
   "source": [
    "def evaluate_models(X_train , y_train , X_test , y_test , models  , n_classes = 3): \n",
    "    # store model and metrices\n",
    "    models_list = []\n",
    "    accuracy_list = []\n",
    "    f1_list = []\n",
    "    auc_list = []\n",
    "\n",
    "    # go to each base model \n",
    "    for model_name , model_obj in models.items(): \n",
    "        # train the model \n",
    "        model_obj.fit(X_train , y_train) \n",
    "        \n",
    "        # predict \n",
    "        y_train_pred = model_obj.predict(X_train)\n",
    "        y_test_pred = model_obj.predict(X_test)\n",
    "        \n",
    "        # Predicted probabilities for ROC-AUC (if available)\n",
    "        try:\n",
    "            y_train_probs = model_obj.predict_proba(X_train)\n",
    "            y_test_probs = model_obj.predict_proba(X_test)\n",
    "        except:\n",
    "            y_train_probs = None\n",
    "            y_test_probs = None\n",
    "        \n",
    "        # Evaluate training set\n",
    "        model_train_accuracy, model_train_f1, model_train_precision, model_train_recall, model_train_rocauc_score = \\\n",
    "            evaluate_clf(y_train, y_train_pred, probs=y_train_probs, n_classes = n_classes)\n",
    "       \n",
    "        # Evaluate test set\n",
    "        model_test_accuracy, model_test_f1, model_test_precision, model_test_recall, model_test_rocauc_score = \\\n",
    "            evaluate_clf(y_test, y_test_pred, probs = y_test_probs, n_classes = n_classes)\n",
    "        \n",
    "        # Print report\n",
    "        print(f\"Model: {model_name}\")\n",
    "        models_list.append(model_name)\n",
    "        \n",
    "        print('Model performance for Training set')\n",
    "        print(f\"- Accuracy: {model_train_accuracy:.4f}\")\n",
    "        print(f\"- F1 score: {model_train_f1:.4f}\")\n",
    "        print(f\"- Precision: {model_train_precision:.4f}\")\n",
    "        print(f\"- Recall: {model_train_recall:.4f}\")\n",
    "        print(f\"- ROC AUC Score: {model_train_rocauc_score}\")\n",
    "        print('----------------------------------')\n",
    "        \n",
    "        print('Model performance for Test set')\n",
    "        print(f\"- Accuracy: {model_test_accuracy:.4f}\")\n",
    "        \n",
    "        print(f\"- F1 score: {model_test_f1:.4f}\")\n",
    "        print(f\"- Precision: {model_test_precision:.4f}\")\n",
    "        print(f\"- Recall: {model_test_recall:.4f}\")\n",
    "        print(f\"- ROC AUC Score: {model_test_rocauc_score}\")\n",
    "        \n",
    "        print('='*35 + '\\n')\n",
    "\n",
    "        # store metrices \n",
    "        accuracy_list.append(model_test_accuracy) \n",
    "        auc_list.append(model_test_rocauc_score)\n",
    "    # report summary\n",
    "    # Summary report\n",
    "    report = pd.DataFrame({\n",
    "        'Model Name': models_list,\n",
    "        'Accuracy': accuracy_list,\n",
    "        'ROC-AUC': auc_list\n",
    "    }).sort_values(by='Accuracy', ascending=False)\n",
    "    \n",
    "    return report"
   ]
  },
  {
   "cell_type": "code",
   "execution_count": 40,
   "id": "5efc1dbb-5d1e-49af-8e45-9e3942259bdd",
   "metadata": {},
   "outputs": [
    {
     "name": "stdout",
     "output_type": "stream",
     "text": [
      "Model: Random Forest\n",
      "Model performance for Training set\n",
      "- Accuracy: 1.0000\n",
      "- F1 score: 1.0000\n",
      "- Precision: 1.0000\n",
      "- Recall: 1.0000\n",
      "- ROC AUC Score: 1.0\n",
      "----------------------------------\n",
      "Model performance for Test set\n",
      "- Accuracy: 0.8046\n",
      "- F1 score: 0.6276\n",
      "- Precision: 0.6137\n",
      "- Recall: 0.6473\n",
      "- ROC AUC Score: 0.8752543161238963\n",
      "===================================\n",
      "\n",
      "Model: Gradient Boosting\n",
      "Model performance for Training set\n",
      "- Accuracy: 0.7685\n",
      "- F1 score: 0.7647\n",
      "- Precision: 0.7666\n",
      "- Recall: 0.7685\n",
      "- ROC AUC Score: 0.9160381906679812\n",
      "----------------------------------\n",
      "Model performance for Test set\n",
      "- Accuracy: 0.6934\n",
      "- F1 score: 0.5036\n",
      "- Precision: 0.4833\n",
      "- Recall: 0.5893\n",
      "- ROC AUC Score: 0.7880048886031089\n",
      "===================================\n",
      "\n",
      "Model: XGBClassifier\n",
      "Model performance for Training set\n",
      "- Accuracy: 0.9864\n",
      "- F1 score: 0.9864\n",
      "- Precision: 0.9865\n",
      "- Recall: 0.9864\n",
      "- ROC AUC Score: 0.9994446440080144\n",
      "----------------------------------\n",
      "Model performance for Test set\n",
      "- Accuracy: 0.8000\n",
      "- F1 score: 0.6068\n",
      "- Precision: 0.6103\n",
      "- Recall: 0.6068\n",
      "- ROC AUC Score: 0.8453662865627987\n",
      "===================================\n",
      "\n",
      "Model: CatBoosting Classifier\n",
      "Model performance for Training set\n",
      "- Accuracy: 0.9697\n",
      "- F1 score: 0.9697\n",
      "- Precision: 0.9697\n",
      "- Recall: 0.9697\n",
      "- ROC AUC Score: 0.9973416362865245\n",
      "----------------------------------\n",
      "Model performance for Test set\n",
      "- Accuracy: 0.7768\n",
      "- F1 score: 0.5851\n",
      "- Precision: 0.5765\n",
      "- Recall: 0.5968\n",
      "- ROC AUC Score: 0.8319315375723079\n",
      "===================================\n",
      "\n",
      "Model: AdaBoost Classifier\n",
      "Model performance for Training set\n",
      "- Accuracy: 0.5845\n",
      "- F1 score: 0.5786\n",
      "- Precision: 0.5789\n",
      "- Recall: 0.5845\n",
      "- ROC AUC Score: 0.7424362102298163\n",
      "----------------------------------\n",
      "Model performance for Test set\n",
      "- Accuracy: 0.5768\n",
      "- F1 score: 0.4087\n",
      "- Precision: 0.4166\n",
      "- Recall: 0.5268\n",
      "- ROC AUC Score: 0.6719860090041886\n",
      "===================================\n",
      "\n"
     ]
    }
   ],
   "source": [
    "base_model_report = evaluate_models(\n",
    "    X_train = X_train_res , y_train = y_train_res , X_test = X_test , y_test = y_test , models = models , \n",
    ")"
   ]
  },
  {
   "cell_type": "markdown",
   "id": "970102c3-af97-4018-830b-a932e4f9ad1e",
   "metadata": {},
   "source": [
    "## Not Looking Good, Skip"
   ]
  }
 ],
 "metadata": {
  "kernelspec": {
   "display_name": "Python 3 (ipykernel)",
   "language": "python",
   "name": "python3"
  },
  "language_info": {
   "codemirror_mode": {
    "name": "ipython",
    "version": 3
   },
   "file_extension": ".py",
   "mimetype": "text/x-python",
   "name": "python",
   "nbconvert_exporter": "python",
   "pygments_lexer": "ipython3",
   "version": "3.11.4"
  }
 },
 "nbformat": 4,
 "nbformat_minor": 5
}
