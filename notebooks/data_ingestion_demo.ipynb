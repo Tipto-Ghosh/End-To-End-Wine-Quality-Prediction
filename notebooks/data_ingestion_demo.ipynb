{
 "cells": [
  {
   "cell_type": "code",
   "execution_count": 1,
   "id": "666c2ba8",
   "metadata": {},
   "outputs": [],
   "source": [
    "import pandas as pd \n",
    "from pymongo import MongoClient\n",
    "import certifi\n",
    "from  dotenv import load_dotenv"
   ]
  },
  {
   "cell_type": "code",
   "execution_count": 2,
   "id": "3c494791",
   "metadata": {},
   "outputs": [],
   "source": [
    "import os \n",
    "load_dotenv()\n",
    "DATABASE_URL = os.getenv(\"DATABASE_URL\") # load from .env file\n",
    "DATABASE_NAME = \"wineData\"\n",
    "COLLECTION_NAME = \"wineCollection\""
   ]
  },
  {
   "cell_type": "code",
   "execution_count": 3,
   "id": "808c5b34",
   "metadata": {},
   "outputs": [],
   "source": [
    "# connect to the database\n",
    "client = MongoClient(DATABASE_URL , tlsCAFile = certifi.where())"
   ]
  },
  {
   "cell_type": "code",
   "execution_count": 4,
   "id": "8eba00c8",
   "metadata": {},
   "outputs": [],
   "source": [
    "# create the database\n",
    "database = client[DATABASE_NAME]\n",
    "# create the collection\n",
    "collection = database[COLLECTION_NAME]"
   ]
  },
  {
   "cell_type": "code",
   "execution_count": 5,
   "id": "4b938ddd",
   "metadata": {},
   "outputs": [
    {
     "data": {
      "text/plain": [
       "6497"
      ]
     },
     "execution_count": 5,
     "metadata": {},
     "output_type": "execute_result"
    }
   ],
   "source": [
    "# get all data from the database\n",
    "data_list = list(collection.find())\n",
    "len(data_list)"
   ]
  },
  {
   "cell_type": "code",
   "execution_count": 6,
   "id": "a3790d15",
   "metadata": {},
   "outputs": [
    {
     "data": {
      "text/html": [
       "<div>\n",
       "<style scoped>\n",
       "    .dataframe tbody tr th:only-of-type {\n",
       "        vertical-align: middle;\n",
       "    }\n",
       "\n",
       "    .dataframe tbody tr th {\n",
       "        vertical-align: top;\n",
       "    }\n",
       "\n",
       "    .dataframe thead th {\n",
       "        text-align: right;\n",
       "    }\n",
       "</style>\n",
       "<table border=\"1\" class=\"dataframe\">\n",
       "  <thead>\n",
       "    <tr style=\"text-align: right;\">\n",
       "      <th></th>\n",
       "      <th>_id</th>\n",
       "      <th>wine type</th>\n",
       "      <th>fixed acidity</th>\n",
       "      <th>volatile acidity</th>\n",
       "      <th>citric acid</th>\n",
       "      <th>residual sugar</th>\n",
       "      <th>chlorides</th>\n",
       "      <th>free sulfur dioxide</th>\n",
       "      <th>total sulfur dioxide</th>\n",
       "      <th>density</th>\n",
       "      <th>pH</th>\n",
       "      <th>sulphates</th>\n",
       "      <th>alcohol</th>\n",
       "      <th>quality</th>\n",
       "    </tr>\n",
       "  </thead>\n",
       "  <tbody>\n",
       "    <tr>\n",
       "      <th>0</th>\n",
       "      <td>68afcc53c87d04415342d4fb</td>\n",
       "      <td>white</td>\n",
       "      <td>6.0</td>\n",
       "      <td>0.180</td>\n",
       "      <td>0.31</td>\n",
       "      <td>1.4</td>\n",
       "      <td>0.036</td>\n",
       "      <td>14.0</td>\n",
       "      <td>75.0</td>\n",
       "      <td>0.99085</td>\n",
       "      <td>3.34</td>\n",
       "      <td>0.58</td>\n",
       "      <td>11.1</td>\n",
       "      <td>8</td>\n",
       "    </tr>\n",
       "    <tr>\n",
       "      <th>1</th>\n",
       "      <td>68afcc53c87d04415342d4fc</td>\n",
       "      <td>white</td>\n",
       "      <td>5.3</td>\n",
       "      <td>0.395</td>\n",
       "      <td>0.07</td>\n",
       "      <td>1.3</td>\n",
       "      <td>0.035</td>\n",
       "      <td>26.0</td>\n",
       "      <td>102.0</td>\n",
       "      <td>0.99200</td>\n",
       "      <td>3.50</td>\n",
       "      <td>0.35</td>\n",
       "      <td>10.6</td>\n",
       "      <td>6</td>\n",
       "    </tr>\n",
       "    <tr>\n",
       "      <th>2</th>\n",
       "      <td>68afcc53c87d04415342d4fd</td>\n",
       "      <td>red</td>\n",
       "      <td>8.1</td>\n",
       "      <td>0.560</td>\n",
       "      <td>0.28</td>\n",
       "      <td>1.7</td>\n",
       "      <td>0.368</td>\n",
       "      <td>16.0</td>\n",
       "      <td>56.0</td>\n",
       "      <td>0.99680</td>\n",
       "      <td>3.11</td>\n",
       "      <td>1.28</td>\n",
       "      <td>9.3</td>\n",
       "      <td>5</td>\n",
       "    </tr>\n",
       "    <tr>\n",
       "      <th>3</th>\n",
       "      <td>68afcc53c87d04415342d4fe</td>\n",
       "      <td>white</td>\n",
       "      <td>6.4</td>\n",
       "      <td>0.220</td>\n",
       "      <td>0.34</td>\n",
       "      <td>1.4</td>\n",
       "      <td>0.023</td>\n",
       "      <td>56.0</td>\n",
       "      <td>115.0</td>\n",
       "      <td>0.98958</td>\n",
       "      <td>3.18</td>\n",
       "      <td>0.70</td>\n",
       "      <td>11.7</td>\n",
       "      <td>6</td>\n",
       "    </tr>\n",
       "    <tr>\n",
       "      <th>4</th>\n",
       "      <td>68afcc53c87d04415342d4ff</td>\n",
       "      <td>red</td>\n",
       "      <td>9.4</td>\n",
       "      <td>0.270</td>\n",
       "      <td>0.53</td>\n",
       "      <td>2.4</td>\n",
       "      <td>0.074</td>\n",
       "      <td>6.0</td>\n",
       "      <td>18.0</td>\n",
       "      <td>0.99620</td>\n",
       "      <td>3.20</td>\n",
       "      <td>1.13</td>\n",
       "      <td>12.0</td>\n",
       "      <td>7</td>\n",
       "    </tr>\n",
       "  </tbody>\n",
       "</table>\n",
       "</div>"
      ],
      "text/plain": [
       "                        _id wine type  fixed acidity  volatile acidity  \\\n",
       "0  68afcc53c87d04415342d4fb     white            6.0             0.180   \n",
       "1  68afcc53c87d04415342d4fc     white            5.3             0.395   \n",
       "2  68afcc53c87d04415342d4fd       red            8.1             0.560   \n",
       "3  68afcc53c87d04415342d4fe     white            6.4             0.220   \n",
       "4  68afcc53c87d04415342d4ff       red            9.4             0.270   \n",
       "\n",
       "   citric acid  residual sugar  chlorides  free sulfur dioxide  \\\n",
       "0         0.31             1.4      0.036                 14.0   \n",
       "1         0.07             1.3      0.035                 26.0   \n",
       "2         0.28             1.7      0.368                 16.0   \n",
       "3         0.34             1.4      0.023                 56.0   \n",
       "4         0.53             2.4      0.074                  6.0   \n",
       "\n",
       "   total sulfur dioxide  density    pH  sulphates  alcohol  quality  \n",
       "0                  75.0  0.99085  3.34       0.58     11.1        8  \n",
       "1                 102.0  0.99200  3.50       0.35     10.6        6  \n",
       "2                  56.0  0.99680  3.11       1.28      9.3        5  \n",
       "3                 115.0  0.98958  3.18       0.70     11.7        6  \n",
       "4                  18.0  0.99620  3.20       1.13     12.0        7  "
      ]
     },
     "execution_count": 6,
     "metadata": {},
     "output_type": "execute_result"
    }
   ],
   "source": [
    "df = pd.DataFrame(data_list)\n",
    "df.head()"
   ]
  },
  {
   "cell_type": "code",
   "execution_count": null,
   "id": "d7db1c16",
   "metadata": {},
   "outputs": [],
   "source": []
  }
 ],
 "metadata": {
  "kernelspec": {
   "display_name": "wineEnv",
   "language": "python",
   "name": "python3"
  },
  "language_info": {
   "codemirror_mode": {
    "name": "ipython",
    "version": 3
   },
   "file_extension": ".py",
   "mimetype": "text/x-python",
   "name": "python",
   "nbconvert_exporter": "python",
   "pygments_lexer": "ipython3",
   "version": "3.11.4"
  }
 },
 "nbformat": 4,
 "nbformat_minor": 5
}
