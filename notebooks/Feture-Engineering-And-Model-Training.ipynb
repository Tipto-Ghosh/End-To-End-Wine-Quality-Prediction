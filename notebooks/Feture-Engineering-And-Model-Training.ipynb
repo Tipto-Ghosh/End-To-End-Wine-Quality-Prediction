{
 "cells": [
  {
   "cell_type": "markdown",
   "id": "a60c44c0-9d81-4a44-aa07-b785dd3c8a67",
   "metadata": {},
   "source": [
    "## Here we will do the Feature Engineering(Data Preprocessing) and Model Training Experiments"
   ]
  },
  {
   "cell_type": "code",
   "execution_count": 1,
   "id": "37ef3d1d-5ac6-4729-ad08-0e6deea11459",
   "metadata": {},
   "outputs": [],
   "source": [
    "import numpy as np \n",
    "import pandas as pd \n",
    "import seaborn as sns\n",
    "from matplotlib import pyplot "
   ]
  },
  {
   "cell_type": "code",
   "execution_count": 32,
   "id": "18efaf3a-e7fa-4214-ae70-05b9249300db",
   "metadata": {},
   "outputs": [],
   "source": [
    "# load the data\n",
    "df = pd.read_csv(\"wine.csv\")"
   ]
  },
  {
   "cell_type": "code",
   "execution_count": 33,
   "id": "6f9de307-e229-4e39-b40f-ee7354e81b9e",
   "metadata": {},
   "outputs": [
    {
     "data": {
      "text/html": [
       "<div>\n",
       "<style scoped>\n",
       "    .dataframe tbody tr th:only-of-type {\n",
       "        vertical-align: middle;\n",
       "    }\n",
       "\n",
       "    .dataframe tbody tr th {\n",
       "        vertical-align: top;\n",
       "    }\n",
       "\n",
       "    .dataframe thead th {\n",
       "        text-align: right;\n",
       "    }\n",
       "</style>\n",
       "<table border=\"1\" class=\"dataframe\">\n",
       "  <thead>\n",
       "    <tr style=\"text-align: right;\">\n",
       "      <th></th>\n",
       "      <th>wine type</th>\n",
       "      <th>fixed acidity</th>\n",
       "      <th>volatile acidity</th>\n",
       "      <th>citric acid</th>\n",
       "      <th>residual sugar</th>\n",
       "      <th>chlorides</th>\n",
       "      <th>free sulfur dioxide</th>\n",
       "      <th>total sulfur dioxide</th>\n",
       "      <th>density</th>\n",
       "      <th>pH</th>\n",
       "      <th>sulphates</th>\n",
       "      <th>alcohol</th>\n",
       "      <th>quality</th>\n",
       "    </tr>\n",
       "  </thead>\n",
       "  <tbody>\n",
       "    <tr>\n",
       "      <th>0</th>\n",
       "      <td>white</td>\n",
       "      <td>6.0</td>\n",
       "      <td>0.180</td>\n",
       "      <td>0.31</td>\n",
       "      <td>1.4</td>\n",
       "      <td>0.036</td>\n",
       "      <td>14.0</td>\n",
       "      <td>75.0</td>\n",
       "      <td>0.99085</td>\n",
       "      <td>3.34</td>\n",
       "      <td>0.58</td>\n",
       "      <td>11.1</td>\n",
       "      <td>8</td>\n",
       "    </tr>\n",
       "    <tr>\n",
       "      <th>1</th>\n",
       "      <td>white</td>\n",
       "      <td>5.3</td>\n",
       "      <td>0.395</td>\n",
       "      <td>0.07</td>\n",
       "      <td>1.3</td>\n",
       "      <td>0.035</td>\n",
       "      <td>26.0</td>\n",
       "      <td>102.0</td>\n",
       "      <td>0.99200</td>\n",
       "      <td>3.50</td>\n",
       "      <td>0.35</td>\n",
       "      <td>10.6</td>\n",
       "      <td>6</td>\n",
       "    </tr>\n",
       "    <tr>\n",
       "      <th>2</th>\n",
       "      <td>red</td>\n",
       "      <td>8.1</td>\n",
       "      <td>0.560</td>\n",
       "      <td>0.28</td>\n",
       "      <td>1.7</td>\n",
       "      <td>0.368</td>\n",
       "      <td>16.0</td>\n",
       "      <td>56.0</td>\n",
       "      <td>0.99680</td>\n",
       "      <td>3.11</td>\n",
       "      <td>1.28</td>\n",
       "      <td>9.3</td>\n",
       "      <td>5</td>\n",
       "    </tr>\n",
       "    <tr>\n",
       "      <th>3</th>\n",
       "      <td>white</td>\n",
       "      <td>6.4</td>\n",
       "      <td>0.220</td>\n",
       "      <td>0.34</td>\n",
       "      <td>1.4</td>\n",
       "      <td>0.023</td>\n",
       "      <td>56.0</td>\n",
       "      <td>115.0</td>\n",
       "      <td>0.98958</td>\n",
       "      <td>3.18</td>\n",
       "      <td>0.70</td>\n",
       "      <td>11.7</td>\n",
       "      <td>6</td>\n",
       "    </tr>\n",
       "    <tr>\n",
       "      <th>4</th>\n",
       "      <td>red</td>\n",
       "      <td>9.4</td>\n",
       "      <td>0.270</td>\n",
       "      <td>0.53</td>\n",
       "      <td>2.4</td>\n",
       "      <td>0.074</td>\n",
       "      <td>6.0</td>\n",
       "      <td>18.0</td>\n",
       "      <td>0.99620</td>\n",
       "      <td>3.20</td>\n",
       "      <td>1.13</td>\n",
       "      <td>12.0</td>\n",
       "      <td>7</td>\n",
       "    </tr>\n",
       "  </tbody>\n",
       "</table>\n",
       "</div>"
      ],
      "text/plain": [
       "  wine type  fixed acidity  volatile acidity  citric acid  residual sugar  \\\n",
       "0     white            6.0             0.180         0.31             1.4   \n",
       "1     white            5.3             0.395         0.07             1.3   \n",
       "2       red            8.1             0.560         0.28             1.7   \n",
       "3     white            6.4             0.220         0.34             1.4   \n",
       "4       red            9.4             0.270         0.53             2.4   \n",
       "\n",
       "   chlorides  free sulfur dioxide  total sulfur dioxide  density    pH  \\\n",
       "0      0.036                 14.0                  75.0  0.99085  3.34   \n",
       "1      0.035                 26.0                 102.0  0.99200  3.50   \n",
       "2      0.368                 16.0                  56.0  0.99680  3.11   \n",
       "3      0.023                 56.0                 115.0  0.98958  3.18   \n",
       "4      0.074                  6.0                  18.0  0.99620  3.20   \n",
       "\n",
       "   sulphates  alcohol  quality  \n",
       "0       0.58     11.1        8  \n",
       "1       0.35     10.6        6  \n",
       "2       1.28      9.3        5  \n",
       "3       0.70     11.7        6  \n",
       "4       1.13     12.0        7  "
      ]
     },
     "execution_count": 33,
     "metadata": {},
     "output_type": "execute_result"
    }
   ],
   "source": [
    "df.head()"
   ]
  },
  {
   "cell_type": "markdown",
   "id": "ef47d592-08f5-47a5-bba2-2f6b91c861dc",
   "metadata": {},
   "source": [
    "- **convert the quality into 3 different groups**\n",
    "    - `quality > 7` => `Premium(2)`\n",
    "    - `5 <= quality <= 6` => `Standard(1)`\n",
    "    - otherwise `quality` => `Basic(0)`"
   ]
  },
  {
   "cell_type": "code",
   "execution_count": 34,
   "id": "82dbae51-4dce-45a6-bf42-710999a2551e",
   "metadata": {},
   "outputs": [],
   "source": [
    "def wine_label(q):\n",
    "    if q > 7:\n",
    "        return \"premium\" # label encode => 2 \n",
    "    elif 5 <= q <= 6:\n",
    "        return \"standard\" # label encode => 1 \n",
    "    else:\n",
    "        return \"basic\" # label encode => 0 \n",
    "\n",
    "df[\"quality\"] = df[\"quality\"].apply(wine_label)"
   ]
  },
  {
   "cell_type": "code",
   "execution_count": 35,
   "id": "efbd53fd-a40c-4b05-8b51-694cc8935525",
   "metadata": {},
   "outputs": [
    {
     "data": {
      "text/html": [
       "<div>\n",
       "<style scoped>\n",
       "    .dataframe tbody tr th:only-of-type {\n",
       "        vertical-align: middle;\n",
       "    }\n",
       "\n",
       "    .dataframe tbody tr th {\n",
       "        vertical-align: top;\n",
       "    }\n",
       "\n",
       "    .dataframe thead th {\n",
       "        text-align: right;\n",
       "    }\n",
       "</style>\n",
       "<table border=\"1\" class=\"dataframe\">\n",
       "  <thead>\n",
       "    <tr style=\"text-align: right;\">\n",
       "      <th></th>\n",
       "      <th>wine type</th>\n",
       "      <th>fixed acidity</th>\n",
       "      <th>volatile acidity</th>\n",
       "      <th>citric acid</th>\n",
       "      <th>residual sugar</th>\n",
       "      <th>chlorides</th>\n",
       "      <th>free sulfur dioxide</th>\n",
       "      <th>total sulfur dioxide</th>\n",
       "      <th>density</th>\n",
       "      <th>pH</th>\n",
       "      <th>sulphates</th>\n",
       "      <th>alcohol</th>\n",
       "      <th>quality</th>\n",
       "    </tr>\n",
       "  </thead>\n",
       "  <tbody>\n",
       "    <tr>\n",
       "      <th>0</th>\n",
       "      <td>white</td>\n",
       "      <td>6.0</td>\n",
       "      <td>0.180</td>\n",
       "      <td>0.31</td>\n",
       "      <td>1.4</td>\n",
       "      <td>0.036</td>\n",
       "      <td>14.0</td>\n",
       "      <td>75.0</td>\n",
       "      <td>0.99085</td>\n",
       "      <td>3.34</td>\n",
       "      <td>0.58</td>\n",
       "      <td>11.1</td>\n",
       "      <td>premium</td>\n",
       "    </tr>\n",
       "    <tr>\n",
       "      <th>1</th>\n",
       "      <td>white</td>\n",
       "      <td>5.3</td>\n",
       "      <td>0.395</td>\n",
       "      <td>0.07</td>\n",
       "      <td>1.3</td>\n",
       "      <td>0.035</td>\n",
       "      <td>26.0</td>\n",
       "      <td>102.0</td>\n",
       "      <td>0.99200</td>\n",
       "      <td>3.50</td>\n",
       "      <td>0.35</td>\n",
       "      <td>10.6</td>\n",
       "      <td>standard</td>\n",
       "    </tr>\n",
       "    <tr>\n",
       "      <th>2</th>\n",
       "      <td>red</td>\n",
       "      <td>8.1</td>\n",
       "      <td>0.560</td>\n",
       "      <td>0.28</td>\n",
       "      <td>1.7</td>\n",
       "      <td>0.368</td>\n",
       "      <td>16.0</td>\n",
       "      <td>56.0</td>\n",
       "      <td>0.99680</td>\n",
       "      <td>3.11</td>\n",
       "      <td>1.28</td>\n",
       "      <td>9.3</td>\n",
       "      <td>standard</td>\n",
       "    </tr>\n",
       "    <tr>\n",
       "      <th>3</th>\n",
       "      <td>white</td>\n",
       "      <td>6.4</td>\n",
       "      <td>0.220</td>\n",
       "      <td>0.34</td>\n",
       "      <td>1.4</td>\n",
       "      <td>0.023</td>\n",
       "      <td>56.0</td>\n",
       "      <td>115.0</td>\n",
       "      <td>0.98958</td>\n",
       "      <td>3.18</td>\n",
       "      <td>0.70</td>\n",
       "      <td>11.7</td>\n",
       "      <td>standard</td>\n",
       "    </tr>\n",
       "    <tr>\n",
       "      <th>4</th>\n",
       "      <td>red</td>\n",
       "      <td>9.4</td>\n",
       "      <td>0.270</td>\n",
       "      <td>0.53</td>\n",
       "      <td>2.4</td>\n",
       "      <td>0.074</td>\n",
       "      <td>6.0</td>\n",
       "      <td>18.0</td>\n",
       "      <td>0.99620</td>\n",
       "      <td>3.20</td>\n",
       "      <td>1.13</td>\n",
       "      <td>12.0</td>\n",
       "      <td>basic</td>\n",
       "    </tr>\n",
       "  </tbody>\n",
       "</table>\n",
       "</div>"
      ],
      "text/plain": [
       "  wine type  fixed acidity  volatile acidity  citric acid  residual sugar  \\\n",
       "0     white            6.0             0.180         0.31             1.4   \n",
       "1     white            5.3             0.395         0.07             1.3   \n",
       "2       red            8.1             0.560         0.28             1.7   \n",
       "3     white            6.4             0.220         0.34             1.4   \n",
       "4       red            9.4             0.270         0.53             2.4   \n",
       "\n",
       "   chlorides  free sulfur dioxide  total sulfur dioxide  density    pH  \\\n",
       "0      0.036                 14.0                  75.0  0.99085  3.34   \n",
       "1      0.035                 26.0                 102.0  0.99200  3.50   \n",
       "2      0.368                 16.0                  56.0  0.99680  3.11   \n",
       "3      0.023                 56.0                 115.0  0.98958  3.18   \n",
       "4      0.074                  6.0                  18.0  0.99620  3.20   \n",
       "\n",
       "   sulphates  alcohol   quality  \n",
       "0       0.58     11.1   premium  \n",
       "1       0.35     10.6  standard  \n",
       "2       1.28      9.3  standard  \n",
       "3       0.70     11.7  standard  \n",
       "4       1.13     12.0     basic  "
      ]
     },
     "execution_count": 35,
     "metadata": {},
     "output_type": "execute_result"
    }
   ],
   "source": [
    "df.head()"
   ]
  },
  {
   "cell_type": "code",
   "execution_count": 36,
   "id": "98cb0da0-0dd3-4553-9c60-b2df650a35d1",
   "metadata": {},
   "outputs": [],
   "source": [
    "#  wine type is not related to quality. Drop this column\n",
    "df.drop(columns = ['wine type'] , axis = 1 , inplace = True)"
   ]
  },
  {
   "cell_type": "code",
   "execution_count": 37,
   "id": "d433d987-9ffa-4427-8ae9-1fcc51071f76",
   "metadata": {},
   "outputs": [
    {
     "data": {
      "text/html": [
       "<div>\n",
       "<style scoped>\n",
       "    .dataframe tbody tr th:only-of-type {\n",
       "        vertical-align: middle;\n",
       "    }\n",
       "\n",
       "    .dataframe tbody tr th {\n",
       "        vertical-align: top;\n",
       "    }\n",
       "\n",
       "    .dataframe thead th {\n",
       "        text-align: right;\n",
       "    }\n",
       "</style>\n",
       "<table border=\"1\" class=\"dataframe\">\n",
       "  <thead>\n",
       "    <tr style=\"text-align: right;\">\n",
       "      <th></th>\n",
       "      <th>fixed acidity</th>\n",
       "      <th>volatile acidity</th>\n",
       "      <th>citric acid</th>\n",
       "      <th>residual sugar</th>\n",
       "      <th>chlorides</th>\n",
       "      <th>free sulfur dioxide</th>\n",
       "      <th>total sulfur dioxide</th>\n",
       "      <th>density</th>\n",
       "      <th>pH</th>\n",
       "      <th>sulphates</th>\n",
       "      <th>alcohol</th>\n",
       "      <th>quality</th>\n",
       "    </tr>\n",
       "  </thead>\n",
       "  <tbody>\n",
       "    <tr>\n",
       "      <th>0</th>\n",
       "      <td>6.0</td>\n",
       "      <td>0.180</td>\n",
       "      <td>0.31</td>\n",
       "      <td>1.4</td>\n",
       "      <td>0.036</td>\n",
       "      <td>14.0</td>\n",
       "      <td>75.0</td>\n",
       "      <td>0.99085</td>\n",
       "      <td>3.34</td>\n",
       "      <td>0.58</td>\n",
       "      <td>11.1</td>\n",
       "      <td>premium</td>\n",
       "    </tr>\n",
       "    <tr>\n",
       "      <th>1</th>\n",
       "      <td>5.3</td>\n",
       "      <td>0.395</td>\n",
       "      <td>0.07</td>\n",
       "      <td>1.3</td>\n",
       "      <td>0.035</td>\n",
       "      <td>26.0</td>\n",
       "      <td>102.0</td>\n",
       "      <td>0.99200</td>\n",
       "      <td>3.50</td>\n",
       "      <td>0.35</td>\n",
       "      <td>10.6</td>\n",
       "      <td>standard</td>\n",
       "    </tr>\n",
       "    <tr>\n",
       "      <th>2</th>\n",
       "      <td>8.1</td>\n",
       "      <td>0.560</td>\n",
       "      <td>0.28</td>\n",
       "      <td>1.7</td>\n",
       "      <td>0.368</td>\n",
       "      <td>16.0</td>\n",
       "      <td>56.0</td>\n",
       "      <td>0.99680</td>\n",
       "      <td>3.11</td>\n",
       "      <td>1.28</td>\n",
       "      <td>9.3</td>\n",
       "      <td>standard</td>\n",
       "    </tr>\n",
       "    <tr>\n",
       "      <th>3</th>\n",
       "      <td>6.4</td>\n",
       "      <td>0.220</td>\n",
       "      <td>0.34</td>\n",
       "      <td>1.4</td>\n",
       "      <td>0.023</td>\n",
       "      <td>56.0</td>\n",
       "      <td>115.0</td>\n",
       "      <td>0.98958</td>\n",
       "      <td>3.18</td>\n",
       "      <td>0.70</td>\n",
       "      <td>11.7</td>\n",
       "      <td>standard</td>\n",
       "    </tr>\n",
       "    <tr>\n",
       "      <th>4</th>\n",
       "      <td>9.4</td>\n",
       "      <td>0.270</td>\n",
       "      <td>0.53</td>\n",
       "      <td>2.4</td>\n",
       "      <td>0.074</td>\n",
       "      <td>6.0</td>\n",
       "      <td>18.0</td>\n",
       "      <td>0.99620</td>\n",
       "      <td>3.20</td>\n",
       "      <td>1.13</td>\n",
       "      <td>12.0</td>\n",
       "      <td>basic</td>\n",
       "    </tr>\n",
       "  </tbody>\n",
       "</table>\n",
       "</div>"
      ],
      "text/plain": [
       "   fixed acidity  volatile acidity  citric acid  residual sugar  chlorides  \\\n",
       "0            6.0             0.180         0.31             1.4      0.036   \n",
       "1            5.3             0.395         0.07             1.3      0.035   \n",
       "2            8.1             0.560         0.28             1.7      0.368   \n",
       "3            6.4             0.220         0.34             1.4      0.023   \n",
       "4            9.4             0.270         0.53             2.4      0.074   \n",
       "\n",
       "   free sulfur dioxide  total sulfur dioxide  density    pH  sulphates  \\\n",
       "0                 14.0                  75.0  0.99085  3.34       0.58   \n",
       "1                 26.0                 102.0  0.99200  3.50       0.35   \n",
       "2                 16.0                  56.0  0.99680  3.11       1.28   \n",
       "3                 56.0                 115.0  0.98958  3.18       0.70   \n",
       "4                  6.0                  18.0  0.99620  3.20       1.13   \n",
       "\n",
       "   alcohol   quality  \n",
       "0     11.1   premium  \n",
       "1     10.6  standard  \n",
       "2      9.3  standard  \n",
       "3     11.7  standard  \n",
       "4     12.0     basic  "
      ]
     },
     "execution_count": 37,
     "metadata": {},
     "output_type": "execute_result"
    }
   ],
   "source": [
    "df.head()"
   ]
  },
  {
   "cell_type": "code",
   "execution_count": 38,
   "id": "95a0ce26-91ea-4392-b13d-a58f4700cbdf",
   "metadata": {},
   "outputs": [
    {
     "data": {
      "text/plain": [
       "(9, 12)"
      ]
     },
     "execution_count": 38,
     "metadata": {},
     "output_type": "execute_result"
    }
   ],
   "source": [
    "# column citric acid values with greater than 0.95 is outlier remove all where value crosses the thresold \n",
    "df[df['citric acid'] > 0.95].shape"
   ]
  },
  {
   "cell_type": "code",
   "execution_count": 39,
   "id": "16c704b7-7934-4d35-acab-f951d7713df1",
   "metadata": {},
   "outputs": [],
   "source": [
    "# column citric acid values with greater than 0.95 is outlier remove all where value crosses the thresold \n",
    "df = df[df['citric acid'] <= 0.95]"
   ]
  },
  {
   "cell_type": "code",
   "execution_count": 40,
   "id": "b4c4a198-4620-445f-891e-d3847975b86e",
   "metadata": {},
   "outputs": [
    {
     "data": {
      "text/html": [
       "<div>\n",
       "<style scoped>\n",
       "    .dataframe tbody tr th:only-of-type {\n",
       "        vertical-align: middle;\n",
       "    }\n",
       "\n",
       "    .dataframe tbody tr th {\n",
       "        vertical-align: top;\n",
       "    }\n",
       "\n",
       "    .dataframe thead th {\n",
       "        text-align: right;\n",
       "    }\n",
       "</style>\n",
       "<table border=\"1\" class=\"dataframe\">\n",
       "  <thead>\n",
       "    <tr style=\"text-align: right;\">\n",
       "      <th></th>\n",
       "      <th>fixed acidity</th>\n",
       "      <th>volatile acidity</th>\n",
       "      <th>citric acid</th>\n",
       "      <th>residual sugar</th>\n",
       "      <th>chlorides</th>\n",
       "      <th>free sulfur dioxide</th>\n",
       "      <th>total sulfur dioxide</th>\n",
       "      <th>density</th>\n",
       "      <th>pH</th>\n",
       "      <th>sulphates</th>\n",
       "      <th>alcohol</th>\n",
       "      <th>quality</th>\n",
       "    </tr>\n",
       "  </thead>\n",
       "  <tbody>\n",
       "    <tr>\n",
       "      <th>3671</th>\n",
       "      <td>7.8</td>\n",
       "      <td>0.965</td>\n",
       "      <td>0.60</td>\n",
       "      <td>65.80</td>\n",
       "      <td>0.074</td>\n",
       "      <td>8.0</td>\n",
       "      <td>160.0</td>\n",
       "      <td>1.03898</td>\n",
       "      <td>3.39</td>\n",
       "      <td>0.69</td>\n",
       "      <td>11.7</td>\n",
       "      <td>standard</td>\n",
       "    </tr>\n",
       "    <tr>\n",
       "      <th>4701</th>\n",
       "      <td>7.9</td>\n",
       "      <td>0.330</td>\n",
       "      <td>0.28</td>\n",
       "      <td>31.60</td>\n",
       "      <td>0.053</td>\n",
       "      <td>35.0</td>\n",
       "      <td>176.0</td>\n",
       "      <td>1.01030</td>\n",
       "      <td>3.15</td>\n",
       "      <td>0.38</td>\n",
       "      <td>8.8</td>\n",
       "      <td>standard</td>\n",
       "    </tr>\n",
       "    <tr>\n",
       "      <th>5479</th>\n",
       "      <td>6.8</td>\n",
       "      <td>0.450</td>\n",
       "      <td>0.28</td>\n",
       "      <td>26.05</td>\n",
       "      <td>0.031</td>\n",
       "      <td>27.0</td>\n",
       "      <td>122.0</td>\n",
       "      <td>1.00295</td>\n",
       "      <td>3.06</td>\n",
       "      <td>0.42</td>\n",
       "      <td>10.6</td>\n",
       "      <td>standard</td>\n",
       "    </tr>\n",
       "    <tr>\n",
       "      <th>5857</th>\n",
       "      <td>7.9</td>\n",
       "      <td>0.330</td>\n",
       "      <td>0.28</td>\n",
       "      <td>31.60</td>\n",
       "      <td>0.053</td>\n",
       "      <td>35.0</td>\n",
       "      <td>176.0</td>\n",
       "      <td>1.01030</td>\n",
       "      <td>3.15</td>\n",
       "      <td>0.38</td>\n",
       "      <td>8.8</td>\n",
       "      <td>standard</td>\n",
       "    </tr>\n",
       "    <tr>\n",
       "      <th>6180</th>\n",
       "      <td>6.8</td>\n",
       "      <td>0.450</td>\n",
       "      <td>0.28</td>\n",
       "      <td>26.05</td>\n",
       "      <td>0.031</td>\n",
       "      <td>27.0</td>\n",
       "      <td>122.0</td>\n",
       "      <td>1.00295</td>\n",
       "      <td>3.06</td>\n",
       "      <td>0.42</td>\n",
       "      <td>10.6</td>\n",
       "      <td>standard</td>\n",
       "    </tr>\n",
       "  </tbody>\n",
       "</table>\n",
       "</div>"
      ],
      "text/plain": [
       "      fixed acidity  volatile acidity  citric acid  residual sugar  chlorides  \\\n",
       "3671            7.8             0.965         0.60           65.80      0.074   \n",
       "4701            7.9             0.330         0.28           31.60      0.053   \n",
       "5479            6.8             0.450         0.28           26.05      0.031   \n",
       "5857            7.9             0.330         0.28           31.60      0.053   \n",
       "6180            6.8             0.450         0.28           26.05      0.031   \n",
       "\n",
       "      free sulfur dioxide  total sulfur dioxide  density    pH  sulphates  \\\n",
       "3671                  8.0                 160.0  1.03898  3.39       0.69   \n",
       "4701                 35.0                 176.0  1.01030  3.15       0.38   \n",
       "5479                 27.0                 122.0  1.00295  3.06       0.42   \n",
       "5857                 35.0                 176.0  1.01030  3.15       0.38   \n",
       "6180                 27.0                 122.0  1.00295  3.06       0.42   \n",
       "\n",
       "      alcohol   quality  \n",
       "3671     11.7  standard  \n",
       "4701      8.8  standard  \n",
       "5479     10.6  standard  \n",
       "5857      8.8  standard  \n",
       "6180     10.6  standard  "
      ]
     },
     "execution_count": 40,
     "metadata": {},
     "output_type": "execute_result"
    }
   ],
   "source": [
    "# residual sugar column has outlier, remove all rows where values are greater than 25\n",
    "df[df['residual sugar'] > 25]"
   ]
  },
  {
   "cell_type": "code",
   "execution_count": 41,
   "id": "8782d8ff-56e3-4d03-94eb-c439b06d15fb",
   "metadata": {},
   "outputs": [],
   "source": [
    "# residual sugar column has outlier, remove all rows where values are greater than 25\n",
    "df = df[df['residual sugar'] <= 25]"
   ]
  },
  {
   "cell_type": "code",
   "execution_count": 42,
   "id": "22d3c5a0-63b9-4697-b3da-cc5266ccfdd0",
   "metadata": {},
   "outputs": [
    {
     "data": {
      "text/plain": [
       "(6483, 12)"
      ]
     },
     "execution_count": 42,
     "metadata": {},
     "output_type": "execute_result"
    }
   ],
   "source": [
    "df.shape"
   ]
  },
  {
   "cell_type": "code",
   "execution_count": 43,
   "id": "9699d648-496c-4ea5-b073-a3cb817194b8",
   "metadata": {},
   "outputs": [],
   "source": [
    "# total sulfur dioxide has outlier \n",
    "df = df[df['total sulfur dioxide'] <= 280]"
   ]
  },
  {
   "cell_type": "code",
   "execution_count": 44,
   "id": "28daae7b-bf6b-40fb-976f-a5c6eb54617c",
   "metadata": {},
   "outputs": [],
   "source": [
    "# fixed acidity is almost same for all quality , also correlation is -0.08 not really correlated \n",
    "df = df.drop(columns=[\"fixed acidity\"])"
   ]
  },
  {
   "cell_type": "code",
   "execution_count": 45,
   "id": "3352021c-11a0-4946-8ee1-905f572a6d40",
   "metadata": {},
   "outputs": [
    {
     "data": {
      "text/html": [
       "<div>\n",
       "<style scoped>\n",
       "    .dataframe tbody tr th:only-of-type {\n",
       "        vertical-align: middle;\n",
       "    }\n",
       "\n",
       "    .dataframe tbody tr th {\n",
       "        vertical-align: top;\n",
       "    }\n",
       "\n",
       "    .dataframe thead th {\n",
       "        text-align: right;\n",
       "    }\n",
       "</style>\n",
       "<table border=\"1\" class=\"dataframe\">\n",
       "  <thead>\n",
       "    <tr style=\"text-align: right;\">\n",
       "      <th></th>\n",
       "      <th>volatile acidity</th>\n",
       "      <th>citric acid</th>\n",
       "      <th>residual sugar</th>\n",
       "      <th>chlorides</th>\n",
       "      <th>free sulfur dioxide</th>\n",
       "      <th>total sulfur dioxide</th>\n",
       "      <th>density</th>\n",
       "      <th>pH</th>\n",
       "      <th>sulphates</th>\n",
       "      <th>alcohol</th>\n",
       "      <th>quality</th>\n",
       "    </tr>\n",
       "  </thead>\n",
       "  <tbody>\n",
       "    <tr>\n",
       "      <th>0</th>\n",
       "      <td>0.180</td>\n",
       "      <td>0.31</td>\n",
       "      <td>1.4</td>\n",
       "      <td>0.036</td>\n",
       "      <td>14.0</td>\n",
       "      <td>75.0</td>\n",
       "      <td>0.99085</td>\n",
       "      <td>3.34</td>\n",
       "      <td>0.58</td>\n",
       "      <td>11.1</td>\n",
       "      <td>premium</td>\n",
       "    </tr>\n",
       "    <tr>\n",
       "      <th>1</th>\n",
       "      <td>0.395</td>\n",
       "      <td>0.07</td>\n",
       "      <td>1.3</td>\n",
       "      <td>0.035</td>\n",
       "      <td>26.0</td>\n",
       "      <td>102.0</td>\n",
       "      <td>0.99200</td>\n",
       "      <td>3.50</td>\n",
       "      <td>0.35</td>\n",
       "      <td>10.6</td>\n",
       "      <td>standard</td>\n",
       "    </tr>\n",
       "    <tr>\n",
       "      <th>2</th>\n",
       "      <td>0.560</td>\n",
       "      <td>0.28</td>\n",
       "      <td>1.7</td>\n",
       "      <td>0.368</td>\n",
       "      <td>16.0</td>\n",
       "      <td>56.0</td>\n",
       "      <td>0.99680</td>\n",
       "      <td>3.11</td>\n",
       "      <td>1.28</td>\n",
       "      <td>9.3</td>\n",
       "      <td>standard</td>\n",
       "    </tr>\n",
       "    <tr>\n",
       "      <th>3</th>\n",
       "      <td>0.220</td>\n",
       "      <td>0.34</td>\n",
       "      <td>1.4</td>\n",
       "      <td>0.023</td>\n",
       "      <td>56.0</td>\n",
       "      <td>115.0</td>\n",
       "      <td>0.98958</td>\n",
       "      <td>3.18</td>\n",
       "      <td>0.70</td>\n",
       "      <td>11.7</td>\n",
       "      <td>standard</td>\n",
       "    </tr>\n",
       "    <tr>\n",
       "      <th>4</th>\n",
       "      <td>0.270</td>\n",
       "      <td>0.53</td>\n",
       "      <td>2.4</td>\n",
       "      <td>0.074</td>\n",
       "      <td>6.0</td>\n",
       "      <td>18.0</td>\n",
       "      <td>0.99620</td>\n",
       "      <td>3.20</td>\n",
       "      <td>1.13</td>\n",
       "      <td>12.0</td>\n",
       "      <td>basic</td>\n",
       "    </tr>\n",
       "  </tbody>\n",
       "</table>\n",
       "</div>"
      ],
      "text/plain": [
       "   volatile acidity  citric acid  residual sugar  chlorides  \\\n",
       "0             0.180         0.31             1.4      0.036   \n",
       "1             0.395         0.07             1.3      0.035   \n",
       "2             0.560         0.28             1.7      0.368   \n",
       "3             0.220         0.34             1.4      0.023   \n",
       "4             0.270         0.53             2.4      0.074   \n",
       "\n",
       "   free sulfur dioxide  total sulfur dioxide  density    pH  sulphates  \\\n",
       "0                 14.0                  75.0  0.99085  3.34       0.58   \n",
       "1                 26.0                 102.0  0.99200  3.50       0.35   \n",
       "2                 16.0                  56.0  0.99680  3.11       1.28   \n",
       "3                 56.0                 115.0  0.98958  3.18       0.70   \n",
       "4                  6.0                  18.0  0.99620  3.20       1.13   \n",
       "\n",
       "   alcohol   quality  \n",
       "0     11.1   premium  \n",
       "1     10.6  standard  \n",
       "2      9.3  standard  \n",
       "3     11.7  standard  \n",
       "4     12.0     basic  "
      ]
     },
     "execution_count": 45,
     "metadata": {},
     "output_type": "execute_result"
    }
   ],
   "source": [
    "df.head()"
   ]
  },
  {
   "cell_type": "code",
   "execution_count": 46,
   "id": "01df5f2f-a4f4-4d6d-b9aa-36d5b0f3931e",
   "metadata": {},
   "outputs": [
    {
     "data": {
      "text/plain": [
       "(6475, 11)"
      ]
     },
     "execution_count": 46,
     "metadata": {},
     "output_type": "execute_result"
    }
   ],
   "source": [
    "df.shape"
   ]
  },
  {
   "cell_type": "code",
   "execution_count": 48,
   "id": "756931df-2f96-48c9-b939-77bdb4cda856",
   "metadata": {},
   "outputs": [],
   "source": [
    "# `density` is not changing for `quality` not an usefull column , drop this column\n",
    "df = df.drop(columns = ['density'])"
   ]
  },
  {
   "cell_type": "code",
   "execution_count": 49,
   "id": "5be2c364-5d25-443a-b85e-d254f2ce6263",
   "metadata": {},
   "outputs": [],
   "source": [
    "# pH is not changing for quality not an usefull column drop this column \n",
    "df = df.drop(columns = ['pH'])"
   ]
  },
  {
   "cell_type": "code",
   "execution_count": 51,
   "id": "8ef3b19b-b21c-4570-a784-f8c71645672b",
   "metadata": {},
   "outputs": [],
   "source": [
    "# quality is not really depending on sulphates, drop this column \n",
    "df = df.drop(columns = ['sulphates'])"
   ]
  },
  {
   "cell_type": "code",
   "execution_count": 52,
   "id": "87de2438-b186-45ec-985a-3c8fea645e85",
   "metadata": {},
   "outputs": [
    {
     "data": {
      "text/plain": [
       "(6475, 8)"
      ]
     },
     "execution_count": 52,
     "metadata": {},
     "output_type": "execute_result"
    }
   ],
   "source": [
    "df.shape"
   ]
  },
  {
   "cell_type": "code",
   "execution_count": 53,
   "id": "3f03ea1f-a708-4b10-b894-0872d9ec3e02",
   "metadata": {},
   "outputs": [
    {
     "data": {
      "text/plain": [
       "(6475, 8)"
      ]
     },
     "execution_count": 53,
     "metadata": {},
     "output_type": "execute_result"
    }
   ],
   "source": [
    "df.shape"
   ]
  },
  {
   "cell_type": "code",
   "execution_count": 54,
   "id": "e44af770-ff12-461d-8a86-f0036468dc9e",
   "metadata": {},
   "outputs": [],
   "source": [
    "# seprate X and y \n",
    "X = df.drop(\"quality\" , axis = 1)\n",
    "y = df['quality']"
   ]
  },
  {
   "cell_type": "code",
   "execution_count": 55,
   "id": "9b2647c7-0f6f-4420-8d23-82b80f124b91",
   "metadata": {},
   "outputs": [
    {
     "data": {
      "text/plain": [
       "(6475, 7)"
      ]
     },
     "execution_count": 55,
     "metadata": {},
     "output_type": "execute_result"
    }
   ],
   "source": [
    "X.shape"
   ]
  },
  {
   "cell_type": "code",
   "execution_count": 56,
   "id": "d5b9628a-4615-4fe5-88a3-b1b56b905899",
   "metadata": {},
   "outputs": [
    {
     "data": {
      "text/plain": [
       "6475"
      ]
     },
     "execution_count": 56,
     "metadata": {},
     "output_type": "execute_result"
    }
   ],
   "source": [
    "len(y)"
   ]
  },
  {
   "cell_type": "markdown",
   "id": "d935b110-7da6-4d82-9601-9e3bae2a77a7",
   "metadata": {},
   "source": [
    "### Now we have to do the transformation"
   ]
  },
  {
   "cell_type": "code",
   "execution_count": 77,
   "id": "f1c8e13d-051b-4932-9918-4077c3d52753",
   "metadata": {},
   "outputs": [
    {
     "data": {
      "text/plain": [
       "Index(['volatile acidity', 'citric acid', 'residual sugar', 'chlorides',\n",
       "       'free sulfur dioxide', 'total sulfur dioxide', 'alcohol'],\n",
       "      dtype='object')"
      ]
     },
     "execution_count": 77,
     "metadata": {},
     "output_type": "execute_result"
    }
   ],
   "source": [
    "X.columns"
   ]
  },
  {
   "cell_type": "code",
   "execution_count": 86,
   "id": "b20daa20-b008-4b61-aadf-da6a1f424381",
   "metadata": {},
   "outputs": [],
   "source": [
    "log_cols = ['volatile acidity' , 'residual sugar', 'chlorides']\n",
    "sqrt_cols = ['free sulfur dioxide']\n",
    "other_cols = [col for col in X.columns if col not in log_cols + sqrt_cols] "
   ]
  },
  {
   "cell_type": "code",
   "execution_count": 87,
   "id": "0b792b01-b4c4-409a-b809-727ef97a759c",
   "metadata": {},
   "outputs": [
    {
     "data": {
      "text/plain": [
       "['citric acid', 'total sulfur dioxide', 'alcohol']"
      ]
     },
     "execution_count": 87,
     "metadata": {},
     "output_type": "execute_result"
    }
   ],
   "source": [
    "other_cols"
   ]
  },
  {
   "cell_type": "code",
   "execution_count": 88,
   "id": "6dcaef5f-d6d3-4e82-bb58-a2e33c1abeed",
   "metadata": {},
   "outputs": [],
   "source": [
    "from sklearn.preprocessing import FunctionTransformer , StandardScaler\n",
    "from sklearn.compose import ColumnTransformer\n",
    "from sklearn.pipeline import Pipeline"
   ]
  },
  {
   "cell_type": "code",
   "execution_count": 89,
   "id": "e9833b03-f415-4b80-80a7-6f5feb82a83c",
   "metadata": {},
   "outputs": [],
   "source": [
    "# define log transformers  \n",
    "log_pipeline = Pipeline(steps = [\n",
    "    (\"log\" , FunctionTransformer(np.log1p , validate = False)) , \n",
    "    (\"scaler\" , StandardScaler())\n",
    "])"
   ]
  },
  {
   "cell_type": "code",
   "execution_count": 90,
   "id": "9892b40a-fc18-453a-9edb-7cbe434b0c5e",
   "metadata": {},
   "outputs": [],
   "source": [
    "# define sqrt transformer with scaling \n",
    "sqrt_pipeline = Pipeline(steps = [\n",
    "    (\"sqrt\" , FunctionTransformer(np.sqrt , validate = False)), \n",
    "    (\"scaler\" , StandardScaler())\n",
    "])"
   ]
  },
  {
   "cell_type": "code",
   "execution_count": 91,
   "id": "6d200ae8-9a8b-4df7-88dc-77a5f817d419",
   "metadata": {},
   "outputs": [],
   "source": [
    "# define a scaler for others column\n",
    "scaler_pipeline = Pipeline(steps = [\n",
    "    (\"scaler\" , StandardScaler())\n",
    "])"
   ]
  },
  {
   "cell_type": "code",
   "execution_count": 92,
   "id": "b80239c8-1f5f-467d-ba91-b94c698d28b5",
   "metadata": {},
   "outputs": [],
   "source": [
    "# define the column transformer \n",
    "preprocessor = ColumnTransformer(\n",
    "    transformers = [\n",
    "        (\"log\" , log_pipeline , log_cols),\n",
    "        (\"sqrt\" , sqrt_pipeline , sqrt_cols),\n",
    "        (\"others\" , scaler_pipeline , other_cols)\n",
    "    ]\n",
    ")"
   ]
  },
  {
   "cell_type": "code",
   "execution_count": 93,
   "id": "ba42b362-5429-485a-b2aa-8d5115a7b76d",
   "metadata": {},
   "outputs": [],
   "source": [
    "# transformed X \n",
    "X_transformed = preprocessor.fit_transform(X)"
   ]
  },
  {
   "cell_type": "code",
   "execution_count": 94,
   "id": "3f79934b-7c67-49e8-ad8e-54b12c5a38ea",
   "metadata": {},
   "outputs": [
    {
     "data": {
      "text/plain": [
       "array([[-1.04508324, -1.09330029, -0.61256543, ..., -0.05248694,\n",
       "        -0.7213929 ,  0.51033366],\n",
       "       [ 0.41355607, -1.15593226, -0.64438931, ..., -1.73979984,\n",
       "        -0.23928402,  0.09093582],\n",
       "       [ 1.38776663, -0.91996732,  8.54797192, ..., -0.26340105,\n",
       "        -1.0606547 , -0.99949859],\n",
       "       ...,\n",
       "       [ 0.31934393,  0.71483978, -0.2645162 , ..., -0.54461987,\n",
       "         0.63565432, -1.08337816],\n",
       "       [-0.5428721 , -0.76491569, -0.45390539, ...,  0.50995069,\n",
       "        -1.88202538,  1.68464764],\n",
       "       [-1.11924998,  1.19971103, -0.54900971, ...,  0.72086481,\n",
       "         1.18918673, -1.33501687]])"
      ]
     },
     "execution_count": 94,
     "metadata": {},
     "output_type": "execute_result"
    }
   ],
   "source": [
    "X_transformed"
   ]
  },
  {
   "cell_type": "code",
   "execution_count": 95,
   "id": "7495417a-44a3-47c7-81fa-5bdbf80df45e",
   "metadata": {},
   "outputs": [
    {
     "data": {
      "text/plain": [
       "{'basic', 'premium', 'standard'}"
      ]
     },
     "execution_count": 95,
     "metadata": {},
     "output_type": "execute_result"
    }
   ],
   "source": [
    "set(y)"
   ]
  },
  {
   "cell_type": "code",
   "execution_count": 96,
   "id": "cc8951f6-aded-414b-813c-579325396571",
   "metadata": {},
   "outputs": [],
   "source": [
    "# now encode the target y \n",
    "mapping = {\"basic\": 0, \"standard\": 1, \"premium\": 2}\n",
    "y_encoded = y.map(mapping)"
   ]
  },
  {
   "cell_type": "code",
   "execution_count": 98,
   "id": "4e95c0bc-331e-4b52-bfb6-0089472b0d4f",
   "metadata": {},
   "outputs": [
    {
     "data": {
      "text/plain": [
       "((5180, 7), (1295, 7))"
      ]
     },
     "execution_count": 98,
     "metadata": {},
     "output_type": "execute_result"
    }
   ],
   "source": [
    "# Train Test Split\n",
    "from sklearn.model_selection import train_test_split\n",
    "X_train , X_test , y_train , y_test = train_test_split(X_transformed , y_encoded , test_size = 0.2 , random_state = 42)\n",
    "X_train.shape , X_test.shape"
   ]
  },
  {
   "cell_type": "code",
   "execution_count": 99,
   "id": "0a114edb-c3f3-4c57-b2fe-e86590a2490a",
   "metadata": {},
   "outputs": [],
   "source": [
    "from sklearn.ensemble import RandomForestClassifier, AdaBoostClassifier, GradientBoostingClassifier\n",
    "from sklearn.linear_model import LogisticRegression \n",
    "from sklearn.neighbors import KNeighborsClassifier\n",
    "from sklearn.tree import DecisionTreeClassifier\n",
    "from sklearn.svm import SVC\n",
    "from sklearn.metrics import accuracy_score, classification_report,ConfusionMatrixDisplay, precision_score, recall_score, f1_score, roc_auc_score,roc_curve \n",
    "from xgboost import XGBClassifier\n",
    "from catboost import CatBoostClassifier"
   ]
  },
  {
   "cell_type": "code",
   "execution_count": 100,
   "id": "0821de15-0ad9-40e2-8bbe-c0f56ae03981",
   "metadata": {},
   "outputs": [],
   "source": [
    "from sklearn.metrics import accuracy_score, f1_score, precision_score, recall_score, roc_auc_score\n",
    "\n",
    "def evaluate_clf(true, predicted, probs = None, n_classes = 3): # n_classes = 3 cause we have 3 classes\n",
    "    \"\"\"\n",
    "    Evaluate multi-class classification metrics.\n",
    "    \n",
    "    Parameters:\n",
    "    - true: true labels\n",
    "    - predicted: predicted labels\n",
    "    - probs: predicted probabilities for roc_auc (optional)\n",
    "    - n_classes: number of classes\n",
    "    \"\"\"\n",
    "    \n",
    "    acc = accuracy_score(true , predicted)\n",
    "    f1 = f1_score(true , predicted , average = \"macro\")\n",
    "    precision = precision_score(true , predicted , average = \"macro\")\n",
    "    recall = recall_score(true , predicted , average = \"macro\")\n",
    "    \n",
    "    # ROC-AUC for multi-class requires probability estimates\n",
    "    if probs is not None:\n",
    "        roc_auc = roc_auc_score(true , probs , multi_class = \"ovr\", average = \"macro\")\n",
    "    else:\n",
    "        roc_auc = None\n",
    "    \n",
    "    return acc, f1, precision, recall, roc_auc"
   ]
  },
  {
   "cell_type": "code",
   "execution_count": 101,
   "id": "9b2247e3-ae72-49e0-a751-aa57fddf9031",
   "metadata": {},
   "outputs": [],
   "source": [
    "models = {\n",
    "    \"Random Forest\": RandomForestClassifier(),\n",
    "    \"Decision Tree\": DecisionTreeClassifier(),\n",
    "    \"Gradient Boosting\": GradientBoostingClassifier(),\n",
    "    \"Logistic Regression\": LogisticRegression(),\n",
    "     \"K-Neighbors Classifier\": KNeighborsClassifier(),\n",
    "    \"XGBClassifier\": XGBClassifier(), \n",
    "     \"CatBoosting Classifier\": CatBoostClassifier(verbose=False),\n",
    "     \"Support Vector Classifier\": SVC(),\n",
    "    \"AdaBoost Classifier\": AdaBoostClassifier()\n",
    "}"
   ]
  },
  {
   "cell_type": "code",
   "execution_count": 104,
   "id": "6158a8da-e9a5-4419-a980-74643078613b",
   "metadata": {},
   "outputs": [],
   "source": [
    "def evaluate_models(X_train , y_train , X_test , y_test , models, n_classes = 3):\n",
    "    \n",
    "    models_list = []\n",
    "    accuracy_list = []\n",
    "    auc_list = []\n",
    "\n",
    "    for model_name, model in models.items():\n",
    "        \n",
    "        # Train the model\n",
    "        model.fit(X_train, y_train)\n",
    "        \n",
    "        # Predictions\n",
    "        y_train_pred = model.predict(X_train)\n",
    "        y_test_pred = model.predict(X_test)\n",
    "        \n",
    "        # Predicted probabilities for ROC-AUC (if available)\n",
    "        try:\n",
    "            y_train_probs = model.predict_proba(X_train)\n",
    "            y_test_probs = model.predict_proba(X_test)\n",
    "        except:\n",
    "            y_train_probs = None\n",
    "            y_test_probs = None\n",
    "\n",
    "        # Evaluate training set\n",
    "        model_train_accuracy, model_train_f1, model_train_precision, model_train_recall, model_train_rocauc_score = \\\n",
    "            evaluate_clf(y_train, y_train_pred, probs=y_train_probs, n_classes=n_classes)\n",
    "        \n",
    "        # Evaluate test set\n",
    "        model_test_accuracy, model_test_f1, model_test_precision, model_test_recall, model_test_rocauc_score = \\\n",
    "            evaluate_clf(y_test, y_test_pred, probs=y_test_probs, n_classes=n_classes)\n",
    "\n",
    "        # Print report\n",
    "        print(f\"Model: {model_name}\")\n",
    "        models_list.append(model_name)\n",
    "        \n",
    "        print('Model performance for Training set')\n",
    "        print(f\"- Accuracy: {model_train_accuracy:.4f}\")\n",
    "        print(f\"- F1 score: {model_train_f1:.4f}\")\n",
    "        print(f\"- Precision: {model_train_precision:.4f}\")\n",
    "        print(f\"- Recall: {model_train_recall:.4f}\")\n",
    "        print(f\"- ROC AUC Score: {model_train_rocauc_score}\")\n",
    "        print('----------------------------------')\n",
    "        \n",
    "        print('Model performance for Test set')\n",
    "        print(f\"- Accuracy: {model_test_accuracy:.4f}\")\n",
    "        accuracy_list.append(model_test_accuracy)\n",
    "        print(f\"- F1 score: {model_test_f1:.4f}\")\n",
    "        print(f\"- Precision: {model_test_precision:.4f}\")\n",
    "        print(f\"- Recall: {model_test_recall:.4f}\")\n",
    "        print(f\"- ROC AUC Score: {model_test_rocauc_score}\")\n",
    "        auc_list.append(model_test_rocauc_score)\n",
    "        print('='*35 + '\\n')\n",
    "\n",
    "    # Summary report\n",
    "    report = pd.DataFrame({\n",
    "        'Model Name': models_list,\n",
    "        'Accuracy': accuracy_list,\n",
    "        'ROC-AUC': auc_list\n",
    "    }).sort_values(by='Accuracy', ascending=False)\n",
    "    \n",
    "    return report\n"
   ]
  },
  {
   "cell_type": "code",
   "execution_count": 105,
   "id": "2ecca4be-8def-49ce-bcad-c2eb1bb15af6",
   "metadata": {},
   "outputs": [
    {
     "name": "stdout",
     "output_type": "stream",
     "text": [
      "Model: Random Forest\n",
      "Model performance for Training set\n",
      "- Accuracy: 1.0000\n",
      "- F1 score: 1.0000\n",
      "- Precision: 1.0000\n",
      "- Recall: 1.0000\n",
      "- ROC AUC Score: 1.0\n",
      "----------------------------------\n",
      "Model performance for Test set\n",
      "- Accuracy: 0.8463\n",
      "- F1 score: 0.6557\n",
      "- Precision: 0.8189\n",
      "- Recall: 0.5883\n",
      "- ROC AUC Score: 0.8686243638961395\n",
      "===================================\n",
      "\n",
      "Model: Decision Tree\n",
      "Model performance for Training set\n",
      "- Accuracy: 1.0000\n",
      "- F1 score: 1.0000\n",
      "- Precision: 1.0000\n",
      "- Recall: 1.0000\n",
      "- ROC AUC Score: 1.0\n",
      "----------------------------------\n",
      "Model performance for Test set\n",
      "- Accuracy: 0.7900\n",
      "- F1 score: 0.6097\n",
      "- Precision: 0.5969\n",
      "- Recall: 0.6249\n",
      "- ROC AUC Score: 0.725138118406055\n",
      "===================================\n",
      "\n",
      "Model: Gradient Boosting\n",
      "Model performance for Training set\n",
      "- Accuracy: 0.8172\n",
      "- F1 score: 0.5819\n",
      "- Precision: 0.8477\n",
      "- Recall: 0.5166\n",
      "- ROC AUC Score: 0.8850304254636812\n",
      "----------------------------------\n",
      "Model performance for Test set\n",
      "- Accuracy: 0.8046\n",
      "- F1 score: 0.4903\n",
      "- Precision: 0.7347\n",
      "- Recall: 0.4508\n",
      "- ROC AUC Score: 0.8029230110282805\n",
      "===================================\n",
      "\n",
      "Model: Logistic Regression\n",
      "Model performance for Training set\n",
      "- Accuracy: 0.7681\n",
      "- F1 score: 0.3489\n",
      "- Precision: 0.4231\n",
      "- Recall: 0.3619\n",
      "- ROC AUC Score: 0.7489555142478393\n",
      "----------------------------------\n",
      "Model performance for Test set\n",
      "- Accuracy: 0.7807\n",
      "- F1 score: 0.3609\n",
      "- Precision: 0.4367\n",
      "- Recall: 0.3685\n",
      "- ROC AUC Score: 0.7349498638559956\n",
      "===================================\n",
      "\n"
     ]
    },
    {
     "name": "stderr",
     "output_type": "stream",
     "text": [
      "E:\\end-to-end-machine-learning-project\\End-To-End-Wine-Quality-Prediction\\wineEnv\\Lib\\site-packages\\sklearn\\metrics\\_classification.py:1731: UndefinedMetricWarning: Precision is ill-defined and being set to 0.0 in labels with no predicted samples. Use `zero_division` parameter to control this behavior.\n",
      "  _warn_prf(average, modifier, f\"{metric.capitalize()} is\", result.shape[0])\n",
      "E:\\end-to-end-machine-learning-project\\End-To-End-Wine-Quality-Prediction\\wineEnv\\Lib\\site-packages\\sklearn\\metrics\\_classification.py:1731: UndefinedMetricWarning: Precision is ill-defined and being set to 0.0 in labels with no predicted samples. Use `zero_division` parameter to control this behavior.\n",
      "  _warn_prf(average, modifier, f\"{metric.capitalize()} is\", result.shape[0])\n"
     ]
    },
    {
     "name": "stdout",
     "output_type": "stream",
     "text": [
      "Model: K-Neighbors Classifier\n",
      "Model performance for Training set\n",
      "- Accuracy: 0.8429\n",
      "- F1 score: 0.6435\n",
      "- Precision: 0.7774\n",
      "- Recall: 0.5912\n",
      "- ROC AUC Score: 0.9303720778456751\n",
      "----------------------------------\n",
      "Model performance for Test set\n",
      "- Accuracy: 0.7730\n",
      "- F1 score: 0.4757\n",
      "- Precision: 0.5222\n",
      "- Recall: 0.4607\n",
      "- ROC AUC Score: 0.7582322477066953\n",
      "===================================\n",
      "\n",
      "Model: XGBClassifier\n",
      "Model performance for Training set\n",
      "- Accuracy: 0.9815\n",
      "- F1 score: 0.9805\n",
      "- Precision: 0.9898\n",
      "- Recall: 0.9722\n",
      "- ROC AUC Score: 0.9991225391317289\n",
      "----------------------------------\n",
      "Model performance for Test set\n",
      "- Accuracy: 0.8278\n",
      "- F1 score: 0.6443\n",
      "- Precision: 0.7700\n",
      "- Recall: 0.5853\n",
      "- ROC AUC Score: 0.8435895614889937\n",
      "===================================\n",
      "\n",
      "Model: CatBoosting Classifier\n",
      "Model performance for Training set\n",
      "- Accuracy: 0.9465\n",
      "- F1 score: 0.9192\n",
      "- Precision: 0.9721\n",
      "- Recall: 0.8781\n",
      "- ROC AUC Score: 0.9922694792316715\n",
      "----------------------------------\n",
      "Model performance for Test set\n",
      "- Accuracy: 0.8309\n",
      "- F1 score: 0.6421\n",
      "- Precision: 0.8158\n",
      "- Recall: 0.5756\n",
      "- ROC AUC Score: 0.8471220151623268\n",
      "===================================\n",
      "\n"
     ]
    },
    {
     "name": "stderr",
     "output_type": "stream",
     "text": [
      "E:\\end-to-end-machine-learning-project\\End-To-End-Wine-Quality-Prediction\\wineEnv\\Lib\\site-packages\\sklearn\\metrics\\_classification.py:1731: UndefinedMetricWarning: Precision is ill-defined and being set to 0.0 in labels with no predicted samples. Use `zero_division` parameter to control this behavior.\n",
      "  _warn_prf(average, modifier, f\"{metric.capitalize()} is\", result.shape[0])\n",
      "E:\\end-to-end-machine-learning-project\\End-To-End-Wine-Quality-Prediction\\wineEnv\\Lib\\site-packages\\sklearn\\metrics\\_classification.py:1731: UndefinedMetricWarning: Precision is ill-defined and being set to 0.0 in labels with no predicted samples. Use `zero_division` parameter to control this behavior.\n",
      "  _warn_prf(average, modifier, f\"{metric.capitalize()} is\", result.shape[0])\n"
     ]
    },
    {
     "name": "stdout",
     "output_type": "stream",
     "text": [
      "Model: Support Vector Classifier\n",
      "Model performance for Training set\n",
      "- Accuracy: 0.7774\n",
      "- F1 score: 0.3563\n",
      "- Precision: 0.4549\n",
      "- Recall: 0.3678\n",
      "- ROC AUC Score: None\n",
      "----------------------------------\n",
      "Model performance for Test set\n",
      "- Accuracy: 0.7938\n",
      "- F1 score: 0.3694\n",
      "- Precision: 0.4951\n",
      "- Recall: 0.3752\n",
      "- ROC AUC Score: None\n",
      "===================================\n",
      "\n",
      "Model: AdaBoost Classifier\n",
      "Model performance for Training set\n",
      "- Accuracy: 0.7689\n",
      "- F1 score: 0.3910\n",
      "- Precision: 0.4219\n",
      "- Recall: 0.3908\n",
      "- ROC AUC Score: 0.7511587508360301\n",
      "----------------------------------\n",
      "Model performance for Test set\n",
      "- Accuracy: 0.7861\n",
      "- F1 score: 0.4072\n",
      "- Precision: 0.4343\n",
      "- Recall: 0.4044\n",
      "- ROC AUC Score: 0.7361654570157702\n",
      "===================================\n",
      "\n"
     ]
    },
    {
     "name": "stderr",
     "output_type": "stream",
     "text": [
      "E:\\end-to-end-machine-learning-project\\End-To-End-Wine-Quality-Prediction\\wineEnv\\Lib\\site-packages\\sklearn\\metrics\\_classification.py:1731: UndefinedMetricWarning: Precision is ill-defined and being set to 0.0 in labels with no predicted samples. Use `zero_division` parameter to control this behavior.\n",
      "  _warn_prf(average, modifier, f\"{metric.capitalize()} is\", result.shape[0])\n",
      "E:\\end-to-end-machine-learning-project\\End-To-End-Wine-Quality-Prediction\\wineEnv\\Lib\\site-packages\\sklearn\\metrics\\_classification.py:1731: UndefinedMetricWarning: Precision is ill-defined and being set to 0.0 in labels with no predicted samples. Use `zero_division` parameter to control this behavior.\n",
      "  _warn_prf(average, modifier, f\"{metric.capitalize()} is\", result.shape[0])\n"
     ]
    }
   ],
   "source": [
    "report = evaluate_models(X_train = X_train , X_test = X_test , y_train = y_train , y_test = y_test , models = models)"
   ]
  },
  {
   "cell_type": "code",
   "execution_count": 106,
   "id": "8b780476-357b-4810-b168-cbfde91f2827",
   "metadata": {},
   "outputs": [
    {
     "data": {
      "text/html": [
       "<div>\n",
       "<style scoped>\n",
       "    .dataframe tbody tr th:only-of-type {\n",
       "        vertical-align: middle;\n",
       "    }\n",
       "\n",
       "    .dataframe tbody tr th {\n",
       "        vertical-align: top;\n",
       "    }\n",
       "\n",
       "    .dataframe thead th {\n",
       "        text-align: right;\n",
       "    }\n",
       "</style>\n",
       "<table border=\"1\" class=\"dataframe\">\n",
       "  <thead>\n",
       "    <tr style=\"text-align: right;\">\n",
       "      <th></th>\n",
       "      <th>Model Name</th>\n",
       "      <th>Accuracy</th>\n",
       "      <th>ROC-AUC</th>\n",
       "    </tr>\n",
       "  </thead>\n",
       "  <tbody>\n",
       "    <tr>\n",
       "      <th>0</th>\n",
       "      <td>Random Forest</td>\n",
       "      <td>0.846332</td>\n",
       "      <td>0.868624</td>\n",
       "    </tr>\n",
       "    <tr>\n",
       "      <th>6</th>\n",
       "      <td>CatBoosting Classifier</td>\n",
       "      <td>0.830888</td>\n",
       "      <td>0.847122</td>\n",
       "    </tr>\n",
       "    <tr>\n",
       "      <th>5</th>\n",
       "      <td>XGBClassifier</td>\n",
       "      <td>0.827799</td>\n",
       "      <td>0.843590</td>\n",
       "    </tr>\n",
       "    <tr>\n",
       "      <th>2</th>\n",
       "      <td>Gradient Boosting</td>\n",
       "      <td>0.804633</td>\n",
       "      <td>0.802923</td>\n",
       "    </tr>\n",
       "    <tr>\n",
       "      <th>7</th>\n",
       "      <td>Support Vector Classifier</td>\n",
       "      <td>0.793822</td>\n",
       "      <td>NaN</td>\n",
       "    </tr>\n",
       "    <tr>\n",
       "      <th>1</th>\n",
       "      <td>Decision Tree</td>\n",
       "      <td>0.789961</td>\n",
       "      <td>0.725138</td>\n",
       "    </tr>\n",
       "    <tr>\n",
       "      <th>8</th>\n",
       "      <td>AdaBoost Classifier</td>\n",
       "      <td>0.786100</td>\n",
       "      <td>0.736165</td>\n",
       "    </tr>\n",
       "    <tr>\n",
       "      <th>3</th>\n",
       "      <td>Logistic Regression</td>\n",
       "      <td>0.780695</td>\n",
       "      <td>0.734950</td>\n",
       "    </tr>\n",
       "    <tr>\n",
       "      <th>4</th>\n",
       "      <td>K-Neighbors Classifier</td>\n",
       "      <td>0.772973</td>\n",
       "      <td>0.758232</td>\n",
       "    </tr>\n",
       "  </tbody>\n",
       "</table>\n",
       "</div>"
      ],
      "text/plain": [
       "                  Model Name  Accuracy   ROC-AUC\n",
       "0              Random Forest  0.846332  0.868624\n",
       "6     CatBoosting Classifier  0.830888  0.847122\n",
       "5              XGBClassifier  0.827799  0.843590\n",
       "2          Gradient Boosting  0.804633  0.802923\n",
       "7  Support Vector Classifier  0.793822       NaN\n",
       "1              Decision Tree  0.789961  0.725138\n",
       "8        AdaBoost Classifier  0.786100  0.736165\n",
       "3        Logistic Regression  0.780695  0.734950\n",
       "4     K-Neighbors Classifier  0.772973  0.758232"
      ]
     },
     "execution_count": 106,
     "metadata": {},
     "output_type": "execute_result"
    }
   ],
   "source": [
    "report"
   ]
  },
  {
   "cell_type": "code",
   "execution_count": 107,
   "id": "1f81e693-c76e-4363-9ab9-863949baba83",
   "metadata": {},
   "outputs": [
    {
     "data": {
      "text/plain": [
       "quality\n",
       "1    3954\n",
       "0    1073\n",
       "2     153\n",
       "Name: count, dtype: int64"
      ]
     },
     "execution_count": 107,
     "metadata": {},
     "output_type": "execute_result"
    }
   ],
   "source": [
    "y_train.value_counts()"
   ]
  },
  {
   "cell_type": "code",
   "execution_count": 108,
   "id": "3e6adcea-54a5-41af-acf1-cf4d6a387e0d",
   "metadata": {},
   "outputs": [],
   "source": [
    "# doing stratified sampling \n",
    "X_train, X_test, y_train, y_test = train_test_split(X_transformed , y_encoded , test_size = 0.2 , random_state = 42 , stratify = y)"
   ]
  },
  {
   "cell_type": "code",
   "execution_count": 109,
   "id": "faf20243-4491-4cf7-b068-fffd7ab174e4",
   "metadata": {},
   "outputs": [],
   "source": [
    "def evaluate_clf(true, predicted, probs = None , n_classes = 3):\n",
    "    \"\"\"\n",
    "    Evaluate multi-class classification metrics with class imbalance handling.\n",
    "    \"\"\"\n",
    "    acc = accuracy_score(true, predicted)\n",
    "    f1 = f1_score(true , predicted , average = \"weighted\" , zero_division = 0)\n",
    "    precision = precision_score(true, predicted, average = \"weighted\" , zero_division = 0)\n",
    "    recall = recall_score(true, predicted, average = \"weighted\", zero_division = 0)\n",
    "    \n",
    "    if probs is not None:\n",
    "        roc_auc = roc_auc_score(true, probs, multi_class = \"ovr\", average = \"weighted\")\n",
    "    else:\n",
    "        roc_auc = None\n",
    "    \n",
    "    return acc, f1, precision, recall, roc_auc"
   ]
  },
  {
   "cell_type": "code",
   "execution_count": 110,
   "id": "7be47269-c2e9-4fc3-b888-394cd3822823",
   "metadata": {},
   "outputs": [],
   "source": [
    "def evaluate_models(X_train, y_train, X_test, y_test, models, n_classes=3):\n",
    "    models_list = []\n",
    "    accuracy_list = []\n",
    "    auc_list = []\n",
    "\n",
    "    for model_name, model in models.items():\n",
    "        # Train the model\n",
    "        model.fit(X_train, y_train)\n",
    "        \n",
    "        # Predictions\n",
    "        y_train_pred = model.predict(X_train)\n",
    "        y_test_pred = model.predict(X_test)\n",
    "        \n",
    "        # Probabilities for ROC-AUC (if available)\n",
    "        try:\n",
    "            y_train_probs = model.predict_proba(X_train)\n",
    "            y_test_probs = model.predict_proba(X_test)\n",
    "        except AttributeError:\n",
    "            y_train_probs = None\n",
    "            y_test_probs = None\n",
    "\n",
    "        # Evaluate training set\n",
    "        model_train_accuracy, model_train_f1, model_train_precision, model_train_recall, model_train_rocauc_score = \\\n",
    "            evaluate_clf(y_train, y_train_pred, probs=y_train_probs, n_classes=n_classes)\n",
    "        \n",
    "        # Evaluate test set\n",
    "        model_test_accuracy, model_test_f1, model_test_precision, model_test_recall, model_test_rocauc_score = \\\n",
    "            evaluate_clf(y_test, y_test_pred, probs=y_test_probs, n_classes=n_classes)\n",
    "\n",
    "        # Print report\n",
    "        print(f\"Model: {model_name}\")\n",
    "        models_list.append(model_name)\n",
    "        \n",
    "        print('Model performance for Training set')\n",
    "        print(f\"- Accuracy: {model_train_accuracy:.4f}\")\n",
    "        print(f\"- F1 score: {model_train_f1:.4f}\")\n",
    "        print(f\"- Precision: {model_train_precision:.4f}\")\n",
    "        print(f\"- Recall: {model_train_recall:.4f}\")\n",
    "        print(f\"- ROC AUC Score: {model_train_rocauc_score}\")\n",
    "        print('----------------------------------')\n",
    "        \n",
    "        print('Model performance for Test set')\n",
    "        print(f\"- Accuracy: {model_test_accuracy:.4f}\")\n",
    "        accuracy_list.append(model_test_accuracy)\n",
    "        print(f\"- F1 score: {model_test_f1:.4f}\")\n",
    "        print(f\"- Precision: {model_test_precision:.4f}\")\n",
    "        print(f\"- Recall: {model_test_recall:.4f}\")\n",
    "        print(f\"- ROC AUC Score: {model_test_rocauc_score}\")\n",
    "        auc_list.append(model_test_rocauc_score)\n",
    "        print('='*35 + '\\n')\n",
    "\n",
    "    # Summary report\n",
    "    report = pd.DataFrame({\n",
    "        'Model Name': models_list,\n",
    "        'Accuracy': accuracy_list,\n",
    "        'ROC-AUC': auc_list\n",
    "    }).sort_values(by='Accuracy', ascending=False)\n",
    "    \n",
    "    return report"
   ]
  },
  {
   "cell_type": "code",
   "execution_count": 113,
   "id": "f6fe51fa-e0a1-4488-81f4-8a3e69ce3cc1",
   "metadata": {},
   "outputs": [
    {
     "name": "stdout",
     "output_type": "stream",
     "text": [
      "Model: Random Forest\n",
      "Model performance for Training set\n",
      "- Accuracy: 1.0000\n",
      "- F1 score: 1.0000\n",
      "- Precision: 1.0000\n",
      "- Recall: 1.0000\n",
      "- ROC AUC Score: 1.0\n",
      "----------------------------------\n",
      "Model performance for Test set\n",
      "- Accuracy: 0.8541\n",
      "- F1 score: 0.8410\n",
      "- Precision: 0.8476\n",
      "- Recall: 0.8541\n",
      "- ROC AUC Score: 0.8817346353248153\n",
      "===================================\n",
      "\n",
      "Model: Decision Tree\n",
      "Model performance for Training set\n",
      "- Accuracy: 1.0000\n",
      "- F1 score: 1.0000\n",
      "- Precision: 1.0000\n",
      "- Recall: 1.0000\n",
      "- ROC AUC Score: 1.0\n",
      "----------------------------------\n",
      "Model performance for Test set\n",
      "- Accuracy: 0.7792\n",
      "- F1 score: 0.7797\n",
      "- Precision: 0.7804\n",
      "- Recall: 0.7792\n",
      "- ROC AUC Score: 0.7117068468684861\n",
      "===================================\n",
      "\n",
      "Model: Gradient Boosting\n",
      "Model performance for Training set\n",
      "- Accuracy: 0.8180\n",
      "- F1 score: 0.7827\n",
      "- Precision: 0.8118\n",
      "- Recall: 0.8180\n",
      "- ROC AUC Score: 0.8605840497672708\n",
      "----------------------------------\n",
      "Model performance for Test set\n",
      "- Accuracy: 0.7815\n",
      "- F1 score: 0.7399\n",
      "- Precision: 0.7471\n",
      "- Recall: 0.7815\n",
      "- ROC AUC Score: 0.7893522172969825\n",
      "===================================\n",
      "\n",
      "Model: Logistic Regression\n",
      "Model performance for Training set\n",
      "- Accuracy: 0.7703\n",
      "- F1 score: 0.7011\n",
      "- Precision: 0.6989\n",
      "- Recall: 0.7703\n",
      "- ROC AUC Score: 0.7301990182230734\n",
      "----------------------------------\n",
      "Model performance for Test set\n",
      "- Accuracy: 0.7668\n",
      "- F1 score: 0.7000\n",
      "- Precision: 0.6916\n",
      "- Recall: 0.7668\n",
      "- ROC AUC Score: 0.7205891047469687\n",
      "===================================\n",
      "\n",
      "Model: K-Neighbors Classifier\n",
      "Model performance for Training set\n",
      "- Accuracy: 0.8431\n",
      "- F1 score: 0.8318\n",
      "- Precision: 0.8332\n",
      "- Recall: 0.8431\n",
      "- ROC AUC Score: 0.912224491210103\n",
      "----------------------------------\n",
      "Model performance for Test set\n",
      "- Accuracy: 0.7653\n",
      "- F1 score: 0.7530\n",
      "- Precision: 0.7441\n",
      "- Recall: 0.7653\n",
      "- ROC AUC Score: 0.7558943542829731\n",
      "===================================\n",
      "\n",
      "Model: XGBClassifier\n",
      "Model performance for Training set\n",
      "- Accuracy: 0.9830\n",
      "- F1 score: 0.9828\n",
      "- Precision: 0.9832\n",
      "- Recall: 0.9830\n",
      "- ROC AUC Score: 0.9992610257554722\n",
      "----------------------------------\n",
      "Model performance for Test set\n",
      "- Accuracy: 0.8363\n",
      "- F1 score: 0.8237\n",
      "- Precision: 0.8245\n",
      "- Recall: 0.8363\n",
      "- ROC AUC Score: 0.8458832174673205\n",
      "===================================\n",
      "\n",
      "Model: CatBoosting Classifier\n",
      "Model performance for Training set\n",
      "- Accuracy: 0.9458\n",
      "- F1 score: 0.9435\n",
      "- Precision: 0.9475\n",
      "- Recall: 0.9458\n",
      "- ROC AUC Score: 0.988587342093477\n",
      "----------------------------------\n",
      "Model performance for Test set\n",
      "- Accuracy: 0.8270\n",
      "- F1 score: 0.8105\n",
      "- Precision: 0.8136\n",
      "- Recall: 0.8270\n",
      "- ROC AUC Score: 0.8485157040276641\n",
      "===================================\n",
      "\n",
      "Model: Support Vector Classifier\n",
      "Model performance for Training set\n",
      "- Accuracy: 0.7832\n",
      "- F1 score: 0.7174\n",
      "- Precision: 0.7310\n",
      "- Recall: 0.7832\n",
      "- ROC AUC Score: None\n",
      "----------------------------------\n",
      "Model performance for Test set\n",
      "- Accuracy: 0.7737\n",
      "- F1 score: 0.7095\n",
      "- Precision: 0.7067\n",
      "- Recall: 0.7737\n",
      "- ROC AUC Score: None\n",
      "===================================\n",
      "\n",
      "Model: AdaBoost Classifier\n",
      "Model performance for Training set\n",
      "- Accuracy: 0.7689\n",
      "- F1 score: 0.7079\n",
      "- Precision: 0.6992\n",
      "- Recall: 0.7689\n",
      "- ROC AUC Score: 0.7241334475469489\n",
      "----------------------------------\n",
      "Model performance for Test set\n",
      "- Accuracy: 0.7606\n",
      "- F1 score: 0.7025\n",
      "- Precision: 0.6851\n",
      "- Recall: 0.7606\n",
      "- ROC AUC Score: 0.7027428277520151\n",
      "===================================\n",
      "\n"
     ]
    }
   ],
   "source": [
    "report2 = evaluate_models(X_train = X_train , X_test = X_test , y_train = y_train , y_test = y_test , models = models , n_classes = 3)"
   ]
  },
  {
   "cell_type": "code",
   "execution_count": 114,
   "id": "6ca0a94d-e5de-437a-b192-618f7df54b1a",
   "metadata": {},
   "outputs": [
    {
     "data": {
      "text/html": [
       "<div>\n",
       "<style scoped>\n",
       "    .dataframe tbody tr th:only-of-type {\n",
       "        vertical-align: middle;\n",
       "    }\n",
       "\n",
       "    .dataframe tbody tr th {\n",
       "        vertical-align: top;\n",
       "    }\n",
       "\n",
       "    .dataframe thead th {\n",
       "        text-align: right;\n",
       "    }\n",
       "</style>\n",
       "<table border=\"1\" class=\"dataframe\">\n",
       "  <thead>\n",
       "    <tr style=\"text-align: right;\">\n",
       "      <th></th>\n",
       "      <th>Model Name</th>\n",
       "      <th>Accuracy</th>\n",
       "      <th>ROC-AUC</th>\n",
       "    </tr>\n",
       "  </thead>\n",
       "  <tbody>\n",
       "    <tr>\n",
       "      <th>0</th>\n",
       "      <td>Random Forest</td>\n",
       "      <td>0.854054</td>\n",
       "      <td>0.881735</td>\n",
       "    </tr>\n",
       "    <tr>\n",
       "      <th>5</th>\n",
       "      <td>XGBClassifier</td>\n",
       "      <td>0.836293</td>\n",
       "      <td>0.845883</td>\n",
       "    </tr>\n",
       "    <tr>\n",
       "      <th>6</th>\n",
       "      <td>CatBoosting Classifier</td>\n",
       "      <td>0.827027</td>\n",
       "      <td>0.848516</td>\n",
       "    </tr>\n",
       "    <tr>\n",
       "      <th>2</th>\n",
       "      <td>Gradient Boosting</td>\n",
       "      <td>0.781467</td>\n",
       "      <td>0.789352</td>\n",
       "    </tr>\n",
       "    <tr>\n",
       "      <th>1</th>\n",
       "      <td>Decision Tree</td>\n",
       "      <td>0.779151</td>\n",
       "      <td>0.711707</td>\n",
       "    </tr>\n",
       "    <tr>\n",
       "      <th>7</th>\n",
       "      <td>Support Vector Classifier</td>\n",
       "      <td>0.773745</td>\n",
       "      <td>NaN</td>\n",
       "    </tr>\n",
       "    <tr>\n",
       "      <th>3</th>\n",
       "      <td>Logistic Regression</td>\n",
       "      <td>0.766795</td>\n",
       "      <td>0.720589</td>\n",
       "    </tr>\n",
       "    <tr>\n",
       "      <th>4</th>\n",
       "      <td>K-Neighbors Classifier</td>\n",
       "      <td>0.765251</td>\n",
       "      <td>0.755894</td>\n",
       "    </tr>\n",
       "    <tr>\n",
       "      <th>8</th>\n",
       "      <td>AdaBoost Classifier</td>\n",
       "      <td>0.760618</td>\n",
       "      <td>0.702743</td>\n",
       "    </tr>\n",
       "  </tbody>\n",
       "</table>\n",
       "</div>"
      ],
      "text/plain": [
       "                  Model Name  Accuracy   ROC-AUC\n",
       "0              Random Forest  0.854054  0.881735\n",
       "5              XGBClassifier  0.836293  0.845883\n",
       "6     CatBoosting Classifier  0.827027  0.848516\n",
       "2          Gradient Boosting  0.781467  0.789352\n",
       "1              Decision Tree  0.779151  0.711707\n",
       "7  Support Vector Classifier  0.773745       NaN\n",
       "3        Logistic Regression  0.766795  0.720589\n",
       "4     K-Neighbors Classifier  0.765251  0.755894\n",
       "8        AdaBoost Classifier  0.760618  0.702743"
      ]
     },
     "execution_count": 114,
     "metadata": {},
     "output_type": "execute_result"
    }
   ],
   "source": [
    "report2"
   ]
  },
  {
   "cell_type": "markdown",
   "id": "bbc32f59-d1f6-4b6f-8f9b-de702f962a30",
   "metadata": {},
   "source": [
    "## Take top-3 model and do hyper-parameter tuning"
   ]
  },
  {
   "cell_type": "code",
   "execution_count": 115,
   "id": "947bdab1-08e4-4808-a45b-b1dc3ae6ba38",
   "metadata": {},
   "outputs": [],
   "source": [
    "#Initialize few parameter for Hyperparamter tuning\n",
    "\n",
    "# XGBoost parameters\n",
    "xgboost_params = {\n",
    "    'max_depth': range(3, 10, 2),\n",
    "    'min_child_weight': range(1, 6, 2),\n",
    "    'learning_rate': [0.01, 0.05, 0.1, 0.2],\n",
    "    'n_estimators': [50, 100, 200, 300]\n",
    "}\n",
    "\n",
    "# Random Forest parameters\n",
    "rf_params = {\n",
    "    \"max_depth\": [10, 12, None, 15, 20],\n",
    "    \"max_features\": ['sqrt', 'log2', None],\n",
    "    \"n_estimators\": [50, 100, 200, 300],\n",
    "    \"min_samples_split\": [2, 5, 10],\n",
    "    \"min_samples_leaf\": [1, 2, 4]\n",
    "}\n",
    "\n",
    "# CatBoost parameters\n",
    "catboost_params = {\n",
    "    \"depth\": [4, 6, 8, 10],\n",
    "    \"learning_rate\": [0.01, 0.05, 0.1, 0.2],\n",
    "    \"iterations\": [100, 200, 300],\n",
    "    \"l2_leaf_reg\": [1, 3, 5, 7]\n",
    "} "
   ]
  },
  {
   "cell_type": "code",
   "execution_count": 123,
   "id": "f996b0c2-2c9e-403d-900e-b889ad0d183e",
   "metadata": {},
   "outputs": [],
   "source": [
    "# Models list for Hyperparameter tuning\n",
    "randomcv_models = [\n",
    "    ('XGBoost', XGBClassifier(use_label_encoder = False , eval_metric = 'mlogloss' , random_state = 42), xgboost_params),\n",
    "    ('RandomForest', RandomForestClassifier(random_state = 42), rf_params),\n",
    "    ('CatBoost', CatBoostClassifier(verbose = False, random_state = 42), catboost_params)\n",
    "]"
   ]
  },
  {
   "cell_type": "code",
   "execution_count": 124,
   "id": "82df06ed-af1d-4490-a392-1cda85a0d758",
   "metadata": {},
   "outputs": [],
   "source": [
    "from sklearn.utils.class_weight import compute_class_weight\n",
    "\n",
    "classes = np.unique(y_train) \n",
    "class_weights = compute_class_weight(class_weight = \"balanced\", classes = classes, y = y_train)\n",
    "class_weights_dict = {cls: weight for cls, weight in zip(classes, class_weights)}"
   ]
  },
  {
   "cell_type": "code",
   "execution_count": 125,
   "id": "12f8b94f-cf55-415b-a52e-969b06a54b87",
   "metadata": {},
   "outputs": [
    {
     "data": {
      "text/plain": [
       "{0: 1.6351010101010102, 1: 0.4353672886199361, 2: 10.928270042194093}"
      ]
     },
     "execution_count": 125,
     "metadata": {},
     "output_type": "execute_result"
    }
   ],
   "source": [
    "class_weights_dict"
   ]
  },
  {
   "cell_type": "code",
   "execution_count": 126,
   "id": "057cf3f4-d0d4-4ea3-bec8-bc1b7a22638a",
   "metadata": {},
   "outputs": [],
   "source": [
    "# sample weights for XGBoost \n",
    "sample_weights = np.array([class_weights_dict[y] for y in y_train])"
   ]
  },
  {
   "cell_type": "code",
   "execution_count": null,
   "id": "8497c500-6160-4014-95bb-247cb0f8f74f",
   "metadata": {},
   "outputs": [],
   "source": []
  },
  {
   "cell_type": "markdown",
   "id": "e215c82b-faa6-4311-bb63-cb433383d75e",
   "metadata": {},
   "source": [
    "## Do the tuning"
   ]
  },
  {
   "cell_type": "code",
   "execution_count": 127,
   "id": "085ae67a-eb1f-4bb5-80af-1ec75dc69cdf",
   "metadata": {},
   "outputs": [
    {
     "name": "stdout",
     "output_type": "stream",
     "text": [
      "\n",
      "Running RandomizedSearchCV for XGBoost...\n",
      "Fitting 5 folds for each of 20 candidates, totalling 100 fits\n"
     ]
    },
    {
     "name": "stderr",
     "output_type": "stream",
     "text": [
      "E:\\end-to-end-machine-learning-project\\End-To-End-Wine-Quality-Prediction\\wineEnv\\Lib\\site-packages\\xgboost\\training.py:183: UserWarning: [00:05:33] WARNING: C:\\actions-runner\\_work\\xgboost\\xgboost\\src\\learner.cc:738: \n",
      "Parameters: { \"use_label_encoder\" } are not used.\n",
      "\n",
      "  bst.update(dtrain, iteration=i, fobj=obj)\n"
     ]
    },
    {
     "name": "stdout",
     "output_type": "stream",
     "text": [
      "Best parameters for XGBoost: {'n_estimators': 100, 'min_child_weight': 3, 'max_depth': 5, 'learning_rate': 0.1}\n",
      "\n",
      "Running RandomizedSearchCV for RandomForest...\n",
      "Fitting 5 folds for each of 20 candidates, totalling 100 fits\n",
      "Best parameters for RandomForest: {'n_estimators': 100, 'min_samples_split': 2, 'min_samples_leaf': 1, 'max_features': 'log2', 'max_depth': 20}\n",
      "\n",
      "Running RandomizedSearchCV for CatBoost...\n",
      "Fitting 5 folds for each of 20 candidates, totalling 100 fits\n",
      "Best parameters for CatBoost: {'learning_rate': 0.05, 'l2_leaf_reg': 1, 'iterations': 300, 'depth': 10}\n"
     ]
    }
   ],
   "source": [
    "from sklearn.model_selection import RandomizedSearchCV \n",
    "\n",
    "best_models = {}  # to store the best estimators\n",
    "best_params = {}  # to store the best parameters\n",
    "\n",
    "for model_name, model_obj, params in randomcv_models:\n",
    "    print(f\"\\nRunning RandomizedSearchCV for {model_name}...\")\n",
    "    \n",
    "    random_search = RandomizedSearchCV(\n",
    "        estimator = model_obj,\n",
    "        param_distributions = params,\n",
    "        n_iter = 20,        # number of parameter combinations to try\n",
    "        cv = 5,\n",
    "        verbose = 3,\n",
    "        n_jobs = -1,\n",
    "        random_state = 42\n",
    "    )\n",
    "\n",
    "    # Handle class imbalance\n",
    "    if model_name == \"XGBoost\":\n",
    "        random_search.fit(X_train, y_train, **{'sample_weight': sample_weights})\n",
    "    elif model_name == \"RandomForest\":\n",
    "        random_search.estimator.set_params(class_weight='balanced')\n",
    "        random_search.fit(X_train, y_train)\n",
    "    else:  # CatBoost\n",
    "        random_search.fit(X_train, y_train)\n",
    "\n",
    "    best_models[model_name] = random_search.best_estimator_\n",
    "    best_params[model_name] = random_search.best_params_\n",
    "    print(f\"Best parameters for {model_name}: {random_search.best_params_}\")\n"
   ]
  },
  {
   "cell_type": "code",
   "execution_count": 129,
   "id": "ba93e78b-1aa0-45e9-8467-5f8ea4398970",
   "metadata": {},
   "outputs": [
    {
     "data": {
      "text/html": [
       "<div>\n",
       "<style scoped>\n",
       "    .dataframe tbody tr th:only-of-type {\n",
       "        vertical-align: middle;\n",
       "    }\n",
       "\n",
       "    .dataframe tbody tr th {\n",
       "        vertical-align: top;\n",
       "    }\n",
       "\n",
       "    .dataframe thead th {\n",
       "        text-align: right;\n",
       "    }\n",
       "</style>\n",
       "<table border=\"1\" class=\"dataframe\">\n",
       "  <thead>\n",
       "    <tr style=\"text-align: right;\">\n",
       "      <th></th>\n",
       "      <th>Model Name</th>\n",
       "      <th>Accuracy</th>\n",
       "      <th>ROC-AUC</th>\n",
       "    </tr>\n",
       "  </thead>\n",
       "  <tbody>\n",
       "    <tr>\n",
       "      <th>1</th>\n",
       "      <td>RandomForest</td>\n",
       "      <td>0.849421</td>\n",
       "      <td>0.879195</td>\n",
       "    </tr>\n",
       "    <tr>\n",
       "      <th>2</th>\n",
       "      <td>CatBoost</td>\n",
       "      <td>0.827027</td>\n",
       "      <td>0.847939</td>\n",
       "    </tr>\n",
       "    <tr>\n",
       "      <th>0</th>\n",
       "      <td>XGBoost</td>\n",
       "      <td>0.802317</td>\n",
       "      <td>0.822229</td>\n",
       "    </tr>\n",
       "  </tbody>\n",
       "</table>\n",
       "</div>"
      ],
      "text/plain": [
       "     Model Name  Accuracy   ROC-AUC\n",
       "1  RandomForest  0.849421  0.879195\n",
       "2      CatBoost  0.827027  0.847939\n",
       "0       XGBoost  0.802317  0.822229"
      ]
     },
     "execution_count": 129,
     "metadata": {},
     "output_type": "execute_result"
    }
   ],
   "source": [
    "tuned_report = evaluate_models(X_train = X_train , X_test = X_test , y_train = y_train , y_test = y_test , models = best_models , n_classes = 3)"
   ]
  },
  {
   "cell_type": "code",
   "execution_count": 133,
   "id": "3f475dd3-57b1-4149-bfe9-a19203cfc03f",
   "metadata": {},
   "outputs": [
    {
     "name": "stdout",
     "output_type": "stream",
     "text": [
      "\n",
      "Running GridSearchCV for XGBoost...\n",
      "Fitting 3 folds for each of 192 candidates, totalling 576 fits\n"
     ]
    },
    {
     "name": "stderr",
     "output_type": "stream",
     "text": [
      "E:\\end-to-end-machine-learning-project\\End-To-End-Wine-Quality-Prediction\\wineEnv\\Lib\\site-packages\\xgboost\\training.py:183: UserWarning: [00:22:38] WARNING: C:\\actions-runner\\_work\\xgboost\\xgboost\\src\\learner.cc:738: \n",
      "Parameters: { \"use_label_encoder\" } are not used.\n",
      "\n",
      "  bst.update(dtrain, iteration=i, fobj=obj)\n"
     ]
    },
    {
     "name": "stdout",
     "output_type": "stream",
     "text": [
      "Best parameters for XGBoost: {'learning_rate': 0.05, 'l2_leaf_reg': 1, 'iterations': 300, 'depth': 10}\n",
      "\n",
      "Running GridSearchCV for RandomForest...\n",
      "Fitting 3 folds for each of 540 candidates, totalling 1620 fits\n",
      "Best parameters for RandomForest: {'learning_rate': 0.05, 'l2_leaf_reg': 1, 'iterations': 300, 'depth': 10}\n",
      "\n",
      "Running GridSearchCV for CatBoost...\n",
      "Fitting 3 folds for each of 192 candidates, totalling 576 fits\n",
      "Best parameters for CatBoost: {'learning_rate': 0.05, 'l2_leaf_reg': 1, 'iterations': 300, 'depth': 10}\n"
     ]
    }
   ],
   "source": [
    "from sklearn.model_selection import GridSearchCV \n",
    "\n",
    "best_models = {}  # to store the best estimators\n",
    "best_params = {}  # to store the best parameters\n",
    "\n",
    "for model_name, model_obj, params in randomcv_models:\n",
    "    print(f\"\\nRunning GridSearchCV for {model_name}...\")\n",
    "    \n",
    "    grid = GridSearchCV(\n",
    "        estimator = model_obj,\n",
    "        param_grid = params,\n",
    "        cv = 3,\n",
    "        n_jobs = -1,\n",
    "        verbose = 5\n",
    "    )\n",
    "\n",
    "    if model_name == \"XGBoost\":\n",
    "        # Pass sample_weight for XGBoost\n",
    "        grid.fit(X_train, y_train, **{'sample_weight': sample_weights})\n",
    "    elif model_name == \"RandomForest\":\n",
    "        # Pass class_weight for RF automatically\n",
    "        grid.estimator.set_params(class_weight='balanced')\n",
    "        grid.fit(X_train, y_train)\n",
    "    else:\n",
    "        # CatBoost\n",
    "        grid.fit(X_train, y_train)\n",
    "\n",
    "    best_models[model_name] = random_search.best_estimator_\n",
    "    best_params[model_name] = random_search.best_params_\n",
    "    print(f\"Best parameters for {model_name}: {random_search.best_params_}\")\n"
   ]
  },
  {
   "cell_type": "code",
   "execution_count": 134,
   "id": "734b3ff6-2416-4ec3-a0a1-c8701248dabd",
   "metadata": {},
   "outputs": [
    {
     "name": "stdout",
     "output_type": "stream",
     "text": [
      "Model: XGBoost\n",
      "Model performance for Training set\n",
      "- Accuracy: 0.9392\n",
      "- F1 score: 0.9361\n",
      "- Precision: 0.9416\n",
      "- Recall: 0.9392\n",
      "- ROC AUC Score: 0.9856259908491014\n",
      "----------------------------------\n",
      "Model performance for Test set\n",
      "- Accuracy: 0.8270\n",
      "- F1 score: 0.8064\n",
      "- Precision: 0.8164\n",
      "- Recall: 0.8270\n",
      "- ROC AUC Score: 0.847938790632712\n",
      "===================================\n",
      "\n",
      "Model: RandomForest\n",
      "Model performance for Training set\n",
      "- Accuracy: 0.9392\n",
      "- F1 score: 0.9361\n",
      "- Precision: 0.9416\n",
      "- Recall: 0.9392\n",
      "- ROC AUC Score: 0.9856259908491014\n",
      "----------------------------------\n",
      "Model performance for Test set\n",
      "- Accuracy: 0.8270\n",
      "- F1 score: 0.8064\n",
      "- Precision: 0.8164\n",
      "- Recall: 0.8270\n",
      "- ROC AUC Score: 0.847938790632712\n",
      "===================================\n",
      "\n",
      "Model: CatBoost\n",
      "Model performance for Training set\n",
      "- Accuracy: 0.9392\n",
      "- F1 score: 0.9361\n",
      "- Precision: 0.9416\n",
      "- Recall: 0.9392\n",
      "- ROC AUC Score: 0.9856259908491014\n",
      "----------------------------------\n",
      "Model performance for Test set\n",
      "- Accuracy: 0.8270\n",
      "- F1 score: 0.8064\n",
      "- Precision: 0.8164\n",
      "- Recall: 0.8270\n",
      "- ROC AUC Score: 0.847938790632712\n",
      "===================================\n",
      "\n"
     ]
    }
   ],
   "source": [
    "tuned_report2 = evaluate_models(X_train = X_train , X_test = X_test , y_train = y_train , y_test = y_test , models = best_models , n_classes = 3)"
   ]
  },
  {
   "cell_type": "code",
   "execution_count": 135,
   "id": "ed3ca5a8-1f57-40b9-b999-d8a81cbda1bb",
   "metadata": {},
   "outputs": [
    {
     "data": {
      "text/html": [
       "<div>\n",
       "<style scoped>\n",
       "    .dataframe tbody tr th:only-of-type {\n",
       "        vertical-align: middle;\n",
       "    }\n",
       "\n",
       "    .dataframe tbody tr th {\n",
       "        vertical-align: top;\n",
       "    }\n",
       "\n",
       "    .dataframe thead th {\n",
       "        text-align: right;\n",
       "    }\n",
       "</style>\n",
       "<table border=\"1\" class=\"dataframe\">\n",
       "  <thead>\n",
       "    <tr style=\"text-align: right;\">\n",
       "      <th></th>\n",
       "      <th>Model Name</th>\n",
       "      <th>Accuracy</th>\n",
       "      <th>ROC-AUC</th>\n",
       "    </tr>\n",
       "  </thead>\n",
       "  <tbody>\n",
       "    <tr>\n",
       "      <th>0</th>\n",
       "      <td>XGBoost</td>\n",
       "      <td>0.827027</td>\n",
       "      <td>0.847939</td>\n",
       "    </tr>\n",
       "    <tr>\n",
       "      <th>1</th>\n",
       "      <td>RandomForest</td>\n",
       "      <td>0.827027</td>\n",
       "      <td>0.847939</td>\n",
       "    </tr>\n",
       "    <tr>\n",
       "      <th>2</th>\n",
       "      <td>CatBoost</td>\n",
       "      <td>0.827027</td>\n",
       "      <td>0.847939</td>\n",
       "    </tr>\n",
       "  </tbody>\n",
       "</table>\n",
       "</div>"
      ],
      "text/plain": [
       "     Model Name  Accuracy   ROC-AUC\n",
       "0       XGBoost  0.827027  0.847939\n",
       "1  RandomForest  0.827027  0.847939\n",
       "2      CatBoost  0.827027  0.847939"
      ]
     },
     "execution_count": 135,
     "metadata": {},
     "output_type": "execute_result"
    }
   ],
   "source": [
    "tuned_report2"
   ]
  },
  {
   "cell_type": "markdown",
   "id": "0a6ba6b5-766f-464f-b236-4876f19e3cb7",
   "metadata": {},
   "source": [
    "## For Multi-Class we got best model as Random Forest Classifier with best accuracy 85%"
   ]
  }
 ],
 "metadata": {
  "kernelspec": {
   "display_name": "Python 3 (ipykernel)",
   "language": "python",
   "name": "python3"
  },
  "language_info": {
   "codemirror_mode": {
    "name": "ipython",
    "version": 3
   },
   "file_extension": ".py",
   "mimetype": "text/x-python",
   "name": "python",
   "nbconvert_exporter": "python",
   "pygments_lexer": "ipython3",
   "version": "3.11.4"
  }
 },
 "nbformat": 4,
 "nbformat_minor": 5
}
